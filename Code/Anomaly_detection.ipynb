{
  "nbformat": 4,
  "nbformat_minor": 0,
  "metadata": {
    "kernelspec": {
      "display_name": "Python 3",
      "language": "python",
      "name": "python3"
    },
    "language_info": {
      "codemirror_mode": {
        "name": "ipython",
        "version": 3
      },
      "file_extension": ".py",
      "mimetype": "text/x-python",
      "name": "python",
      "nbconvert_exporter": "python",
      "pygments_lexer": "ipython3",
      "version": "3.7.6"
    },
    "colab": {
      "name": "Anomaly_detection.ipynb",
      "provenance": [],
      "collapsed_sections": []
    }
  },
  "cells": [
    {
      "cell_type": "markdown",
      "metadata": {
        "id": "gw0Q7xStEaII"
      },
      "source": [
        "\n",
        "### <center>Anomaly Detection.</center>\n",
        "#####           <center>(Using Elliptic Envelope to detect anomalies)</center>\n",
        "#####           <center>(Testing with Adaboost(Decision Trees), SOM(from SuSi), Median regression[soon] and Mean regression[soon])</center>"
      ]
    },
    {
      "cell_type": "code",
      "metadata": {
        "id": "Y75OQbxwEaIK"
      },
      "source": [
        "import numpy as np\n",
        "import pandas as pd\n",
        "import seaborn as sns\n",
        "import matplotlib.pyplot as plt\n",
        "sns.set_style('darkgrid')"
      ],
      "execution_count": null,
      "outputs": []
    },
    {
      "cell_type": "code",
      "metadata": {
        "id": "Blw1iZ46EaIX"
      },
      "source": [
        "data_full = pd.read_csv('DataDR15.csv')\n",
        "data_frel = pd.read_csv('Full_Rel.csv')\n",
        "data_rel = pd.read_csv('Rel.csv')\n",
        "data_un = pd.read_csv('Unrel.csv')"
      ],
      "execution_count": null,
      "outputs": []
    },
    {
      "cell_type": "code",
      "metadata": {
        "id": "Kk98yF1WEaIj"
      },
      "source": [
        "rel = data_frel.drop(['specObjID', 'objid', 'specType', 'photpType'], axis = 1).copy()\n",
        "unrel = data_un.drop(['specObjID', 'objid', 'specType', 'photpType'], axis = 1).copy()"
      ],
      "execution_count": null,
      "outputs": []
    },
    {
      "cell_type": "code",
      "metadata": {
        "id": "ZkAGm5NIEaIs"
      },
      "source": [
        "data_full.drop(['Unnamed: 0'], axis = 1, inplace = True)\n",
        "data_frel.drop(['Unnamed: 0'], axis = 1, inplace = True)\n",
        "data_rel.drop(['Unnamed: 0'], axis = 1, inplace = True)\n",
        "data_un.drop(['Unnamed: 0'], axis = 1, inplace = True)"
      ],
      "execution_count": null,
      "outputs": []
    },
    {
      "cell_type": "code",
      "metadata": {
        "id": "kFOIBJEeEaI0"
      },
      "source": [
        "# Normalize \n",
        "def NormalizeData(data):\n",
        "    for i in data.columns:\n",
        "        if((i == 'CountR') or (i == 'specz')):\n",
        "                pass\n",
        "        else:\n",
        "            data[i] = (data[i]-data[i].mean())/data[i].std()\n",
        "    return data"
      ],
      "execution_count": null,
      "outputs": []
    },
    {
      "cell_type": "code",
      "metadata": {
        "id": "cmOgatv7EaI9"
      },
      "source": [
        "rel = NormalizeData(rel).drop(['zWarning'], axis = 1)\n",
        "unrel = NormalizeData(unrel).drop(['zWarning'], axis = 1)\n",
        "# CountR for rel is 0 and unrel is 2"
      ],
      "execution_count": null,
      "outputs": []
    },
    {
      "cell_type": "code",
      "metadata": {
        "id": "xW9u-rk2EaJG"
      },
      "source": [
        "# Returns a contaminated dataset with 'a' reliable and 'b' unreliable data points\n",
        "def prepare_dataset(dRel, dUnrel, a, b):\n",
        "    return pd.DataFrame(dRel.head(int(a)).append(dUnrel.head(int(b))))"
      ],
      "execution_count": null,
      "outputs": []
    },
    {
      "cell_type": "code",
      "metadata": {
        "id": "K3UDVL2GEaJM"
      },
      "source": [
        "# Anomaly identification with EE\n",
        "from sklearn.covariance import EllipticEnvelope"
      ],
      "execution_count": null,
      "outputs": []
    },
    {
      "cell_type": "code",
      "metadata": {
        "id": "BxuoieIeEaJR"
      },
      "source": [
        "def NurNr():\n",
        "    N_ur = np.random.randint(100, 2420, 1)\n",
        "    N_r = np.random.randint(3*N_ur, 100000, 1)\n",
        "    return N_ur, N_r\n",
        "N_ur, N_r = NurNr()"
      ],
      "execution_count": null,
      "outputs": []
    },
    {
      "cell_type": "code",
      "metadata": {
        "id": "PZweTYhZEaJY",
        "outputId": "f7df46f1-a80d-472c-c820-f80908baccb8"
      },
      "source": [
        "print(N_ur, N_r)"
      ],
      "execution_count": null,
      "outputs": [
        {
          "output_type": "stream",
          "text": [
            "[711] [97837]\n"
          ],
          "name": "stdout"
        }
      ]
    },
    {
      "cell_type": "code",
      "metadata": {
        "id": "mcQ3lDnWEaJh"
      },
      "source": [
        "data_final = prepare_dataset(rel, unrel, N_r, N_ur)"
      ],
      "execution_count": null,
      "outputs": []
    },
    {
      "cell_type": "code",
      "metadata": {
        "id": "m-u88eiSEaJo",
        "outputId": "1d2cfc1a-d594-4df7-ced9-1ce5d5d56703"
      },
      "source": [
        "data_final"
      ],
      "execution_count": null,
      "outputs": [
        {
          "output_type": "execute_result",
          "data": {
            "text/html": [
              "<div>\n",
              "<style scoped>\n",
              "    .dataframe tbody tr th:only-of-type {\n",
              "        vertical-align: middle;\n",
              "    }\n",
              "\n",
              "    .dataframe tbody tr th {\n",
              "        vertical-align: top;\n",
              "    }\n",
              "\n",
              "    .dataframe thead th {\n",
              "        text-align: right;\n",
              "    }\n",
              "</style>\n",
              "<table border=\"1\" class=\"dataframe\">\n",
              "  <thead>\n",
              "    <tr style=\"text-align: right;\">\n",
              "      <th></th>\n",
              "      <th>Unnamed: 0</th>\n",
              "      <th>ra</th>\n",
              "      <th>dec</th>\n",
              "      <th>specz</th>\n",
              "      <th>specz_err</th>\n",
              "      <th>dered_u</th>\n",
              "      <th>dered_g</th>\n",
              "      <th>dered_r</th>\n",
              "      <th>dered_i</th>\n",
              "      <th>dered_z</th>\n",
              "      <th>...</th>\n",
              "      <th>modelMagErr_r</th>\n",
              "      <th>modelMagErr_i</th>\n",
              "      <th>modelMagErr_z</th>\n",
              "      <th>petroRad_r</th>\n",
              "      <th>petroRadErr_r</th>\n",
              "      <th>color_gi</th>\n",
              "      <th>color_gr</th>\n",
              "      <th>color_ri</th>\n",
              "      <th>color_zr</th>\n",
              "      <th>CountR</th>\n",
              "    </tr>\n",
              "  </thead>\n",
              "  <tbody>\n",
              "    <tr>\n",
              "      <th>0</th>\n",
              "      <td>-1.753036</td>\n",
              "      <td>0.187404</td>\n",
              "      <td>-1.191252</td>\n",
              "      <td>0.099074</td>\n",
              "      <td>-0.004559</td>\n",
              "      <td>-0.279651</td>\n",
              "      <td>-1.392589</td>\n",
              "      <td>-1.290779</td>\n",
              "      <td>-0.288001</td>\n",
              "      <td>-1.293359</td>\n",
              "      <td>...</td>\n",
              "      <td>-0.318760</td>\n",
              "      <td>-0.002686</td>\n",
              "      <td>-0.292405</td>\n",
              "      <td>0.516573</td>\n",
              "      <td>0.351019</td>\n",
              "      <td>-0.146160</td>\n",
              "      <td>-1.196452</td>\n",
              "      <td>-0.046732</td>\n",
              "      <td>0.779641</td>\n",
              "      <td>0</td>\n",
              "    </tr>\n",
              "    <tr>\n",
              "      <th>1</th>\n",
              "      <td>-1.753035</td>\n",
              "      <td>0.192135</td>\n",
              "      <td>-1.195265</td>\n",
              "      <td>0.079820</td>\n",
              "      <td>-0.004551</td>\n",
              "      <td>-0.345828</td>\n",
              "      <td>-1.900775</td>\n",
              "      <td>-2.014231</td>\n",
              "      <td>-0.475762</td>\n",
              "      <td>-2.185006</td>\n",
              "      <td>...</td>\n",
              "      <td>-0.336043</td>\n",
              "      <td>-0.002990</td>\n",
              "      <td>-0.322435</td>\n",
              "      <td>0.968800</td>\n",
              "      <td>0.348773</td>\n",
              "      <td>-0.115323</td>\n",
              "      <td>-0.835753</td>\n",
              "      <td>-0.045945</td>\n",
              "      <td>0.733913</td>\n",
              "      <td>0</td>\n",
              "    </tr>\n",
              "    <tr>\n",
              "      <th>2</th>\n",
              "      <td>-1.753034</td>\n",
              "      <td>0.193822</td>\n",
              "      <td>-1.191458</td>\n",
              "      <td>0.079575</td>\n",
              "      <td>-0.004561</td>\n",
              "      <td>-0.270399</td>\n",
              "      <td>-1.236767</td>\n",
              "      <td>-1.119223</td>\n",
              "      <td>-0.244555</td>\n",
              "      <td>-1.109773</td>\n",
              "      <td>...</td>\n",
              "      <td>-0.323002</td>\n",
              "      <td>-0.002775</td>\n",
              "      <td>-0.305990</td>\n",
              "      <td>-0.147804</td>\n",
              "      <td>0.349393</td>\n",
              "      <td>-0.141231</td>\n",
              "      <td>-1.148259</td>\n",
              "      <td>-0.045813</td>\n",
              "      <td>0.709854</td>\n",
              "      <td>0</td>\n",
              "    </tr>\n",
              "    <tr>\n",
              "      <th>3</th>\n",
              "      <td>-1.753033</td>\n",
              "      <td>0.195348</td>\n",
              "      <td>-1.191582</td>\n",
              "      <td>0.009237</td>\n",
              "      <td>-0.004553</td>\n",
              "      <td>-0.425636</td>\n",
              "      <td>-2.290671</td>\n",
              "      <td>-2.175405</td>\n",
              "      <td>-0.479830</td>\n",
              "      <td>-1.843285</td>\n",
              "      <td>...</td>\n",
              "      <td>-0.307465</td>\n",
              "      <td>-0.002348</td>\n",
              "      <td>-0.197529</td>\n",
              "      <td>6.707428</td>\n",
              "      <td>0.354317</td>\n",
              "      <td>-0.234210</td>\n",
              "      <td>-1.803158</td>\n",
              "      <td>-0.084443</td>\n",
              "      <td>2.287966</td>\n",
              "      <td>0</td>\n",
              "    </tr>\n",
              "    <tr>\n",
              "      <th>4</th>\n",
              "      <td>-1.753031</td>\n",
              "      <td>0.237899</td>\n",
              "      <td>-1.191973</td>\n",
              "      <td>0.071525</td>\n",
              "      <td>-0.004555</td>\n",
              "      <td>-0.290919</td>\n",
              "      <td>-1.637185</td>\n",
              "      <td>-1.656973</td>\n",
              "      <td>-0.376577</td>\n",
              "      <td>-1.710422</td>\n",
              "      <td>...</td>\n",
              "      <td>-0.335334</td>\n",
              "      <td>-0.002976</td>\n",
              "      <td>-0.324252</td>\n",
              "      <td>-0.167105</td>\n",
              "      <td>0.348995</td>\n",
              "      <td>-0.133147</td>\n",
              "      <td>-0.966028</td>\n",
              "      <td>-0.052954</td>\n",
              "      <td>0.855692</td>\n",
              "      <td>0</td>\n",
              "    </tr>\n",
              "    <tr>\n",
              "      <th>...</th>\n",
              "      <td>...</td>\n",
              "      <td>...</td>\n",
              "      <td>...</td>\n",
              "      <td>...</td>\n",
              "      <td>...</td>\n",
              "      <td>...</td>\n",
              "      <td>...</td>\n",
              "      <td>...</td>\n",
              "      <td>...</td>\n",
              "      <td>...</td>\n",
              "      <td>...</td>\n",
              "      <td>...</td>\n",
              "      <td>...</td>\n",
              "      <td>...</td>\n",
              "      <td>...</td>\n",
              "      <td>...</td>\n",
              "      <td>...</td>\n",
              "      <td>...</td>\n",
              "      <td>...</td>\n",
              "      <td>...</td>\n",
              "      <td>...</td>\n",
              "    </tr>\n",
              "    <tr>\n",
              "      <th>706</th>\n",
              "      <td>-0.535735</td>\n",
              "      <td>0.897302</td>\n",
              "      <td>1.500469</td>\n",
              "      <td>0.729165</td>\n",
              "      <td>-0.154940</td>\n",
              "      <td>1.186285</td>\n",
              "      <td>1.630057</td>\n",
              "      <td>1.473932</td>\n",
              "      <td>0.864203</td>\n",
              "      <td>0.054565</td>\n",
              "      <td>...</td>\n",
              "      <td>4.049921</td>\n",
              "      <td>0.710248</td>\n",
              "      <td>-0.147621</td>\n",
              "      <td>-0.030540</td>\n",
              "      <td>-1.249450</td>\n",
              "      <td>1.383605</td>\n",
              "      <td>0.624671</td>\n",
              "      <td>1.226222</td>\n",
              "      <td>-2.046977</td>\n",
              "      <td>2</td>\n",
              "    </tr>\n",
              "    <tr>\n",
              "      <th>707</th>\n",
              "      <td>-0.764499</td>\n",
              "      <td>0.911964</td>\n",
              "      <td>1.505021</td>\n",
              "      <td>1.435578</td>\n",
              "      <td>-0.154936</td>\n",
              "      <td>0.944550</td>\n",
              "      <td>-0.129048</td>\n",
              "      <td>-0.352033</td>\n",
              "      <td>-0.547455</td>\n",
              "      <td>-0.552350</td>\n",
              "      <td>...</td>\n",
              "      <td>-0.662729</td>\n",
              "      <td>-0.375436</td>\n",
              "      <td>-0.563464</td>\n",
              "      <td>-0.093561</td>\n",
              "      <td>0.800713</td>\n",
              "      <td>0.489368</td>\n",
              "      <td>0.310764</td>\n",
              "      <td>0.322769</td>\n",
              "      <td>-0.246443</td>\n",
              "      <td>2</td>\n",
              "    </tr>\n",
              "    <tr>\n",
              "      <th>708</th>\n",
              "      <td>-0.806952</td>\n",
              "      <td>0.660637</td>\n",
              "      <td>1.452347</td>\n",
              "      <td>1.616375</td>\n",
              "      <td>-0.265387</td>\n",
              "      <td>-0.073804</td>\n",
              "      <td>0.070227</td>\n",
              "      <td>0.539944</td>\n",
              "      <td>0.331750</td>\n",
              "      <td>0.119225</td>\n",
              "      <td>...</td>\n",
              "      <td>0.327961</td>\n",
              "      <td>0.006048</td>\n",
              "      <td>-0.145795</td>\n",
              "      <td>-0.245007</td>\n",
              "      <td>0.802730</td>\n",
              "      <td>-0.308605</td>\n",
              "      <td>-0.702328</td>\n",
              "      <td>0.421821</td>\n",
              "      <td>-0.614562</td>\n",
              "      <td>2</td>\n",
              "    </tr>\n",
              "    <tr>\n",
              "      <th>709</th>\n",
              "      <td>-0.901065</td>\n",
              "      <td>0.772335</td>\n",
              "      <td>1.508977</td>\n",
              "      <td>0.925932</td>\n",
              "      <td>-0.154919</td>\n",
              "      <td>0.587294</td>\n",
              "      <td>0.412028</td>\n",
              "      <td>0.851869</td>\n",
              "      <td>0.547446</td>\n",
              "      <td>-0.128373</td>\n",
              "      <td>...</td>\n",
              "      <td>0.920634</td>\n",
              "      <td>0.165956</td>\n",
              "      <td>-0.334234</td>\n",
              "      <td>-0.169925</td>\n",
              "      <td>-1.249450</td>\n",
              "      <td>-0.061594</td>\n",
              "      <td>-0.575725</td>\n",
              "      <td>0.622106</td>\n",
              "      <td>-1.401096</td>\n",
              "      <td>2</td>\n",
              "    </tr>\n",
              "    <tr>\n",
              "      <th>710</th>\n",
              "      <td>-0.901048</td>\n",
              "      <td>0.794309</td>\n",
              "      <td>1.511422</td>\n",
              "      <td>1.855948</td>\n",
              "      <td>-0.154940</td>\n",
              "      <td>1.441657</td>\n",
              "      <td>0.756766</td>\n",
              "      <td>0.817475</td>\n",
              "      <td>0.453850</td>\n",
              "      <td>-0.074543</td>\n",
              "      <td>...</td>\n",
              "      <td>1.327874</td>\n",
              "      <td>0.209375</td>\n",
              "      <td>-0.121661</td>\n",
              "      <td>0.550350</td>\n",
              "      <td>-1.249450</td>\n",
              "      <td>0.576541</td>\n",
              "      <td>0.086146</td>\n",
              "      <td>0.726043</td>\n",
              "      <td>-1.278199</td>\n",
              "      <td>2</td>\n",
              "    </tr>\n",
              "  </tbody>\n",
              "</table>\n",
              "<p>98548 rows × 22 columns</p>\n",
              "</div>"
            ],
            "text/plain": [
              "     Unnamed: 0        ra       dec     specz  specz_err   dered_u   dered_g  \\\n",
              "0     -1.753036  0.187404 -1.191252  0.099074  -0.004559 -0.279651 -1.392589   \n",
              "1     -1.753035  0.192135 -1.195265  0.079820  -0.004551 -0.345828 -1.900775   \n",
              "2     -1.753034  0.193822 -1.191458  0.079575  -0.004561 -0.270399 -1.236767   \n",
              "3     -1.753033  0.195348 -1.191582  0.009237  -0.004553 -0.425636 -2.290671   \n",
              "4     -1.753031  0.237899 -1.191973  0.071525  -0.004555 -0.290919 -1.637185   \n",
              "..          ...       ...       ...       ...        ...       ...       ...   \n",
              "706   -0.535735  0.897302  1.500469  0.729165  -0.154940  1.186285  1.630057   \n",
              "707   -0.764499  0.911964  1.505021  1.435578  -0.154936  0.944550 -0.129048   \n",
              "708   -0.806952  0.660637  1.452347  1.616375  -0.265387 -0.073804  0.070227   \n",
              "709   -0.901065  0.772335  1.508977  0.925932  -0.154919  0.587294  0.412028   \n",
              "710   -0.901048  0.794309  1.511422  1.855948  -0.154940  1.441657  0.756766   \n",
              "\n",
              "      dered_r   dered_i   dered_z  ...  modelMagErr_r  modelMagErr_i  \\\n",
              "0   -1.290779 -0.288001 -1.293359  ...      -0.318760      -0.002686   \n",
              "1   -2.014231 -0.475762 -2.185006  ...      -0.336043      -0.002990   \n",
              "2   -1.119223 -0.244555 -1.109773  ...      -0.323002      -0.002775   \n",
              "3   -2.175405 -0.479830 -1.843285  ...      -0.307465      -0.002348   \n",
              "4   -1.656973 -0.376577 -1.710422  ...      -0.335334      -0.002976   \n",
              "..        ...       ...       ...  ...            ...            ...   \n",
              "706  1.473932  0.864203  0.054565  ...       4.049921       0.710248   \n",
              "707 -0.352033 -0.547455 -0.552350  ...      -0.662729      -0.375436   \n",
              "708  0.539944  0.331750  0.119225  ...       0.327961       0.006048   \n",
              "709  0.851869  0.547446 -0.128373  ...       0.920634       0.165956   \n",
              "710  0.817475  0.453850 -0.074543  ...       1.327874       0.209375   \n",
              "\n",
              "     modelMagErr_z  petroRad_r  petroRadErr_r  color_gi  color_gr  color_ri  \\\n",
              "0        -0.292405    0.516573       0.351019 -0.146160 -1.196452 -0.046732   \n",
              "1        -0.322435    0.968800       0.348773 -0.115323 -0.835753 -0.045945   \n",
              "2        -0.305990   -0.147804       0.349393 -0.141231 -1.148259 -0.045813   \n",
              "3        -0.197529    6.707428       0.354317 -0.234210 -1.803158 -0.084443   \n",
              "4        -0.324252   -0.167105       0.348995 -0.133147 -0.966028 -0.052954   \n",
              "..             ...         ...            ...       ...       ...       ...   \n",
              "706      -0.147621   -0.030540      -1.249450  1.383605  0.624671  1.226222   \n",
              "707      -0.563464   -0.093561       0.800713  0.489368  0.310764  0.322769   \n",
              "708      -0.145795   -0.245007       0.802730 -0.308605 -0.702328  0.421821   \n",
              "709      -0.334234   -0.169925      -1.249450 -0.061594 -0.575725  0.622106   \n",
              "710      -0.121661    0.550350      -1.249450  0.576541  0.086146  0.726043   \n",
              "\n",
              "     color_zr  CountR  \n",
              "0    0.779641       0  \n",
              "1    0.733913       0  \n",
              "2    0.709854       0  \n",
              "3    2.287966       0  \n",
              "4    0.855692       0  \n",
              "..        ...     ...  \n",
              "706 -2.046977       2  \n",
              "707 -0.246443       2  \n",
              "708 -0.614562       2  \n",
              "709 -1.401096       2  \n",
              "710 -1.278199       2  \n",
              "\n",
              "[98548 rows x 22 columns]"
            ]
          },
          "metadata": {
            "tags": []
          },
          "execution_count": 219
        }
      ]
    },
    {
      "cell_type": "code",
      "metadata": {
        "id": "RUmq3Z64EaJv"
      },
      "source": [
        "a = ['Unnamed: 0', 'ra', 'dec', 'dered_u','dered_g', 'dered_i', 'dered_z', 'modelMagErr_u','modelMagErr_g', 'modelMagErr_r', 'modelMagErr_i', 'modelMagErr_z','petroRadErr_r']\n",
        "data_final.drop(a, axis = 1, inplace = True)"
      ],
      "execution_count": null,
      "outputs": []
    },
    {
      "cell_type": "code",
      "metadata": {
        "id": "eDtg_MVfEaJ2"
      },
      "source": [
        "# Cross Validation set needs to take only reliable redshifts for obvious reasons\n",
        "n = np.array(data_final).shape[0] \n",
        "cross_val = data_final.head(int(n/2)).copy()\n",
        "training = data_final.copy() # contains all all unreliable redshifts because of the append order"
      ],
      "execution_count": null,
      "outputs": []
    },
    {
      "cell_type": "code",
      "metadata": {
        "id": "EtlHvF0hEaJ8",
        "outputId": "7d75cb9e-557a-4d2a-87f5-22704dc61d01"
      },
      "source": [
        "training.columns"
      ],
      "execution_count": null,
      "outputs": [
        {
          "output_type": "execute_result",
          "data": {
            "text/plain": [
              "Index(['specz', 'specz_err', 'dered_r', 'petroRad_r', 'color_gi', 'color_gr',\n",
              "       'color_ri', 'color_zr', 'CountR'],\n",
              "      dtype='object')"
            ]
          },
          "metadata": {
            "tags": []
          },
          "execution_count": 222
        }
      ]
    },
    {
      "cell_type": "markdown",
      "metadata": {
        "id": "qZaRYwChEaKD"
      },
      "source": [
        "###          <center>Elliptical Envelope Technique</center>"
      ]
    },
    {
      "cell_type": "code",
      "metadata": {
        "id": "lyLiJHXLEaKE"
      },
      "source": [
        "def id_perc_cor(df):\n",
        "    outL = 0 # Correctly identified outlier\n",
        "    inL = 0 # Correctly identified inlier\n",
        "    n = len(df['CountR'])\n",
        "    o = len(df[df['CountR']==2]['CountR'])\n",
        "    i = len(df[df['CountR']==0]['CountR'])\n",
        "    for i in range(n):\n",
        "        if ((df['CountR'].iloc[i] == 2) & (df['In'].iloc[i] == -1)):\n",
        "            outL += 1\n",
        "        elif ((df['CountR'].iloc[i] == 0) & (df['In'].iloc[i] == 1)):\n",
        "            inL += 1\n",
        "    if((outL!=0) & (inL!=0)):\n",
        "#         print(outL/o, ' fraction of Outliers correctly identified and ', inL/i, ' fraction of Inliers correctly identified')\n",
        "        return[outL/o, inL/i]\n",
        "    elif(outL == 0):\n",
        "#         print('No outliers')\n",
        "        return[0, 1]\n",
        "    elif(inL == 0):\n",
        "#         print('No inliers')\n",
        "        return[1, 0]"
      ],
      "execution_count": null,
      "outputs": []
    },
    {
      "cell_type": "code",
      "metadata": {
        "id": "dozJDxWcEaKW"
      },
      "source": [
        "def ElepEnv(df, n):\n",
        "    clf = EllipticEnvelope(contamination=n,random_state=0)\n",
        "    clf.fit(df)\n",
        "#     ee_scores = pd.Series(clf.decision_function(df)) \n",
        "    ee_predict = clf.predict(df)\n",
        "    return ee_predict"
      ],
      "execution_count": null,
      "outputs": []
    },
    {
      "cell_type": "code",
      "metadata": {
        "id": "kQ-_jpzHEaKc"
      },
      "source": [
        "def Tune_EE(param, df):\n",
        "    s = []\n",
        "    for i in param:\n",
        "        df['In'] = list(ElepEnv(df, i))\n",
        "        a, b = id_perc_cor(df)\n",
        "#         print('Contamination Parameter ', i, ' gives correct outliers ', 100*a, '% and correct inliers', 100*b, ' %')\n",
        "        s.append(np.array([i, a, b]))\n",
        "#         a is outL and b is inL\n",
        "    return s"
      ],
      "execution_count": null,
      "outputs": []
    },
    {
      "cell_type": "code",
      "metadata": {
        "id": "IfTGDlwQEaKg"
      },
      "source": [
        "params =  [0, 0.001, 0.01, 0.020, 0.030, 0.040, 0.050, 0.060,  0.070, 0.080, 0.090, 0.1, 0.11, 0.12, 0.13, 0.14, 0.15, 0.2, 0.3, 0.4, 0.5, 0.6, 0.7, 0.8, 0.9, 1]"
      ],
      "execution_count": null,
      "outputs": []
    },
    {
      "cell_type": "code",
      "metadata": {
        "id": "1dbPbjmCEaKk"
      },
      "source": [
        "performance = Tune_EE(params, training)"
      ],
      "execution_count": null,
      "outputs": []
    },
    {
      "cell_type": "code",
      "metadata": {
        "id": "MwbxRQ0lEaKp"
      },
      "source": [
        "vizPerformance = pd.DataFrame(np.array(performance), columns = ['ContPar', 'OutL', 'InL'])"
      ],
      "execution_count": null,
      "outputs": []
    },
    {
      "cell_type": "code",
      "metadata": {
        "id": "ZOtwuHrlEaKx",
        "outputId": "4b322d9c-bd36-4ca0-cffd-0924f1d11c29"
      },
      "source": [
        "vizPerformance"
      ],
      "execution_count": null,
      "outputs": [
        {
          "output_type": "execute_result",
          "data": {
            "text/html": [
              "<div>\n",
              "<style scoped>\n",
              "    .dataframe tbody tr th:only-of-type {\n",
              "        vertical-align: middle;\n",
              "    }\n",
              "\n",
              "    .dataframe tbody tr th {\n",
              "        vertical-align: top;\n",
              "    }\n",
              "\n",
              "    .dataframe thead th {\n",
              "        text-align: right;\n",
              "    }\n",
              "</style>\n",
              "<table border=\"1\" class=\"dataframe\">\n",
              "  <thead>\n",
              "    <tr style=\"text-align: right;\">\n",
              "      <th></th>\n",
              "      <th>ContPar</th>\n",
              "      <th>OutL</th>\n",
              "      <th>InL</th>\n",
              "    </tr>\n",
              "  </thead>\n",
              "  <tbody>\n",
              "    <tr>\n",
              "      <th>0</th>\n",
              "      <td>0.000</td>\n",
              "      <td>0.000000</td>\n",
              "      <td>1.000000</td>\n",
              "    </tr>\n",
              "    <tr>\n",
              "      <th>1</th>\n",
              "      <td>0.001</td>\n",
              "      <td>0.049226</td>\n",
              "      <td>0.992146</td>\n",
              "    </tr>\n",
              "    <tr>\n",
              "      <th>2</th>\n",
              "      <td>0.010</td>\n",
              "      <td>0.998594</td>\n",
              "      <td>0.989995</td>\n",
              "    </tr>\n",
              "    <tr>\n",
              "      <th>3</th>\n",
              "      <td>0.020</td>\n",
              "      <td>1.000000</td>\n",
              "      <td>0.980010</td>\n",
              "    </tr>\n",
              "    <tr>\n",
              "      <th>4</th>\n",
              "      <td>0.030</td>\n",
              "      <td>1.000000</td>\n",
              "      <td>0.970004</td>\n",
              "    </tr>\n",
              "    <tr>\n",
              "      <th>5</th>\n",
              "      <td>0.040</td>\n",
              "      <td>1.000000</td>\n",
              "      <td>0.960009</td>\n",
              "    </tr>\n",
              "    <tr>\n",
              "      <th>6</th>\n",
              "      <td>0.050</td>\n",
              "      <td>1.000000</td>\n",
              "      <td>0.950004</td>\n",
              "    </tr>\n",
              "    <tr>\n",
              "      <th>7</th>\n",
              "      <td>0.060</td>\n",
              "      <td>1.000000</td>\n",
              "      <td>0.940008</td>\n",
              "    </tr>\n",
              "    <tr>\n",
              "      <th>8</th>\n",
              "      <td>0.070</td>\n",
              "      <td>1.000000</td>\n",
              "      <td>0.930003</td>\n",
              "    </tr>\n",
              "    <tr>\n",
              "      <th>9</th>\n",
              "      <td>0.080</td>\n",
              "      <td>1.000000</td>\n",
              "      <td>0.920008</td>\n",
              "    </tr>\n",
              "    <tr>\n",
              "      <th>10</th>\n",
              "      <td>0.090</td>\n",
              "      <td>1.000000</td>\n",
              "      <td>0.910002</td>\n",
              "    </tr>\n",
              "    <tr>\n",
              "      <th>11</th>\n",
              "      <td>0.100</td>\n",
              "      <td>1.000000</td>\n",
              "      <td>0.900007</td>\n",
              "    </tr>\n",
              "    <tr>\n",
              "      <th>12</th>\n",
              "      <td>0.110</td>\n",
              "      <td>1.000000</td>\n",
              "      <td>0.890002</td>\n",
              "    </tr>\n",
              "    <tr>\n",
              "      <th>13</th>\n",
              "      <td>0.120</td>\n",
              "      <td>1.000000</td>\n",
              "      <td>0.880006</td>\n",
              "    </tr>\n",
              "    <tr>\n",
              "      <th>14</th>\n",
              "      <td>0.130</td>\n",
              "      <td>1.000000</td>\n",
              "      <td>0.870001</td>\n",
              "    </tr>\n",
              "    <tr>\n",
              "      <th>15</th>\n",
              "      <td>0.140</td>\n",
              "      <td>1.000000</td>\n",
              "      <td>0.860006</td>\n",
              "    </tr>\n",
              "    <tr>\n",
              "      <th>16</th>\n",
              "      <td>0.150</td>\n",
              "      <td>1.000000</td>\n",
              "      <td>0.850001</td>\n",
              "    </tr>\n",
              "    <tr>\n",
              "      <th>17</th>\n",
              "      <td>0.200</td>\n",
              "      <td>1.000000</td>\n",
              "      <td>0.800004</td>\n",
              "    </tr>\n",
              "    <tr>\n",
              "      <th>18</th>\n",
              "      <td>0.300</td>\n",
              "      <td>1.000000</td>\n",
              "      <td>0.700001</td>\n",
              "    </tr>\n",
              "    <tr>\n",
              "      <th>19</th>\n",
              "      <td>0.400</td>\n",
              "      <td>1.000000</td>\n",
              "      <td>0.600008</td>\n",
              "    </tr>\n",
              "    <tr>\n",
              "      <th>20</th>\n",
              "      <td>0.500</td>\n",
              "      <td>1.000000</td>\n",
              "      <td>0.500005</td>\n",
              "    </tr>\n",
              "    <tr>\n",
              "      <th>21</th>\n",
              "      <td>0.600</td>\n",
              "      <td>1.000000</td>\n",
              "      <td>0.400002</td>\n",
              "    </tr>\n",
              "    <tr>\n",
              "      <th>22</th>\n",
              "      <td>0.700</td>\n",
              "      <td>1.000000</td>\n",
              "      <td>0.300009</td>\n",
              "    </tr>\n",
              "    <tr>\n",
              "      <th>23</th>\n",
              "      <td>0.800</td>\n",
              "      <td>1.000000</td>\n",
              "      <td>0.200006</td>\n",
              "    </tr>\n",
              "    <tr>\n",
              "      <th>24</th>\n",
              "      <td>0.900</td>\n",
              "      <td>1.000000</td>\n",
              "      <td>0.100003</td>\n",
              "    </tr>\n",
              "    <tr>\n",
              "      <th>25</th>\n",
              "      <td>1.000</td>\n",
              "      <td>1.000000</td>\n",
              "      <td>0.000010</td>\n",
              "    </tr>\n",
              "  </tbody>\n",
              "</table>\n",
              "</div>"
            ],
            "text/plain": [
              "    ContPar      OutL       InL\n",
              "0     0.000  0.000000  1.000000\n",
              "1     0.001  0.049226  0.992146\n",
              "2     0.010  0.998594  0.989995\n",
              "3     0.020  1.000000  0.980010\n",
              "4     0.030  1.000000  0.970004\n",
              "5     0.040  1.000000  0.960009\n",
              "6     0.050  1.000000  0.950004\n",
              "7     0.060  1.000000  0.940008\n",
              "8     0.070  1.000000  0.930003\n",
              "9     0.080  1.000000  0.920008\n",
              "10    0.090  1.000000  0.910002\n",
              "11    0.100  1.000000  0.900007\n",
              "12    0.110  1.000000  0.890002\n",
              "13    0.120  1.000000  0.880006\n",
              "14    0.130  1.000000  0.870001\n",
              "15    0.140  1.000000  0.860006\n",
              "16    0.150  1.000000  0.850001\n",
              "17    0.200  1.000000  0.800004\n",
              "18    0.300  1.000000  0.700001\n",
              "19    0.400  1.000000  0.600008\n",
              "20    0.500  1.000000  0.500005\n",
              "21    0.600  1.000000  0.400002\n",
              "22    0.700  1.000000  0.300009\n",
              "23    0.800  1.000000  0.200006\n",
              "24    0.900  1.000000  0.100003\n",
              "25    1.000  1.000000  0.000010"
            ]
          },
          "metadata": {
            "tags": []
          },
          "execution_count": 229
        }
      ]
    },
    {
      "cell_type": "code",
      "metadata": {
        "id": "OobDSb06EaK3",
        "outputId": "b13739d4-7c31-4137-ce87-b48e29690754"
      },
      "source": [
        "sns.lineplot(x = 'ContPar', y = 'OutL', data = vizPerformance)\n",
        "plt.scatter(vizPerformance['ContPar'], vizPerformance['OutL'], label = 'Outlier')\n",
        "sns.lineplot(x = 'ContPar', y = 'InL', data = vizPerformance)\n",
        "plt.scatter(vizPerformance['ContPar'], vizPerformance['InL'], label = 'Inlier')\n",
        "plt.legend()"
      ],
      "execution_count": null,
      "outputs": [
        {
          "output_type": "execute_result",
          "data": {
            "text/plain": [
              "<matplotlib.legend.Legend at 0x7f7f6c3c4a90>"
            ]
          },
          "metadata": {
            "tags": []
          },
          "execution_count": 230
        },
        {
          "output_type": "display_data",
          "data": {
            "image/png": "[encoded data removed]",
            "text/plain": [
              "<Figure size 432x288 with 1 Axes>"
            ]
          },
          "metadata": {
            "tags": []
          }
        }
      ]
    },
    {
      "cell_type": "code",
      "metadata": {
        "id": "fQuVP6A5EaK8"
      },
      "source": [
        "# Plot Some other graphs properly later, take more cont par and plot with 1 sigma\n",
        "# You can try randomizing the selection of unreliable redshifts, but it is expected to give more or less similar results  "
      ],
      "execution_count": null,
      "outputs": []
    },
    {
      "cell_type": "code",
      "metadata": {
        "id": "DKIOj6BTEaLB"
      },
      "source": [
        "#  Estimating the contamination fraction using the Mahalanobis distance - try later, only analytically important "
      ],
      "execution_count": null,
      "outputs": []
    },
    {
      "cell_type": "code",
      "metadata": {
        "id": "7g3i_D8zEaLF"
      },
      "source": [
        "training.drop(['In'], axis = 1 ,inplace = True)"
      ],
      "execution_count": null,
      "outputs": []
    },
    {
      "cell_type": "code",
      "metadata": {
        "id": "X5thw7WhEaLL"
      },
      "source": [
        "for i in range(len(params)):\n",
        "    training['In'+str(i)] = ElepEnv(training, params[i])"
      ],
      "execution_count": null,
      "outputs": []
    },
    {
      "cell_type": "markdown",
      "metadata": {
        "id": "coMOGtjyEaLP"
      },
      "source": [
        "* #####          The main idea is to apply the anomaly detection technique pre-training and check if there has been any improvement in performance post-training.\n",
        "\n",
        "* #####          For this reason we test some algorithms like SOMs and Mean/Median Regression for evaluating performance on inlier + outlier data when compared to just inlier data."
      ]
    },
    {
      "cell_type": "markdown",
      "metadata": {
        "id": "CjftvCmZEaLQ"
      },
      "source": [
        "* Clearly from the above graph, we see an acceptable tradeoff at **ContPar = 0.050**(EE performs very similarly in this region so hypertuning is not required), so we keep this constant and go ahead with our analysis."
      ]
    },
    {
      "cell_type": "code",
      "metadata": {
        "id": "4EpIUersEaLR"
      },
      "source": [
        "# Make multiple training sets - done\n",
        "# train with and without outliers - to do "
      ],
      "execution_count": null,
      "outputs": []
    },
    {
      "cell_type": "code",
      "metadata": {
        "id": "0Kgj4fHYEaLV"
      },
      "source": [
        "training.head()\n",
        "training.drop(['CountR'], axis = 1, inplace = True)"
      ],
      "execution_count": null,
      "outputs": []
    },
    {
      "cell_type": "code",
      "metadata": {
        "id": "OtOwEgRLEaLZ",
        "outputId": "33fcf1a9-8591-4df3-b8fc-37822b30dbc8"
      },
      "source": [
        "training.head()\n",
        "# The data is negative because of the normalization"
      ],
      "execution_count": null,
      "outputs": [
        {
          "output_type": "execute_result",
          "data": {
            "text/html": [
              "<div>\n",
              "<style scoped>\n",
              "    .dataframe tbody tr th:only-of-type {\n",
              "        vertical-align: middle;\n",
              "    }\n",
              "\n",
              "    .dataframe tbody tr th {\n",
              "        vertical-align: top;\n",
              "    }\n",
              "\n",
              "    .dataframe thead th {\n",
              "        text-align: right;\n",
              "    }\n",
              "</style>\n",
              "<table border=\"1\" class=\"dataframe\">\n",
              "  <thead>\n",
              "    <tr style=\"text-align: right;\">\n",
              "      <th></th>\n",
              "      <th>specz</th>\n",
              "      <th>specz_err</th>\n",
              "      <th>dered_r</th>\n",
              "      <th>petroRad_r</th>\n",
              "      <th>color_gi</th>\n",
              "      <th>color_gr</th>\n",
              "      <th>color_ri</th>\n",
              "      <th>color_zr</th>\n",
              "      <th>In0</th>\n",
              "      <th>In1</th>\n",
              "      <th>...</th>\n",
              "      <th>In16</th>\n",
              "      <th>In17</th>\n",
              "      <th>In18</th>\n",
              "      <th>In19</th>\n",
              "      <th>In20</th>\n",
              "      <th>In21</th>\n",
              "      <th>In22</th>\n",
              "      <th>In23</th>\n",
              "      <th>In24</th>\n",
              "      <th>In25</th>\n",
              "    </tr>\n",
              "  </thead>\n",
              "  <tbody>\n",
              "    <tr>\n",
              "      <th>0</th>\n",
              "      <td>0.099074</td>\n",
              "      <td>-0.004559</td>\n",
              "      <td>-1.290779</td>\n",
              "      <td>0.516573</td>\n",
              "      <td>-0.146160</td>\n",
              "      <td>-1.196452</td>\n",
              "      <td>-0.046732</td>\n",
              "      <td>0.779641</td>\n",
              "      <td>1</td>\n",
              "      <td>1</td>\n",
              "      <td>...</td>\n",
              "      <td>1</td>\n",
              "      <td>1</td>\n",
              "      <td>1</td>\n",
              "      <td>1</td>\n",
              "      <td>1</td>\n",
              "      <td>1</td>\n",
              "      <td>1</td>\n",
              "      <td>-1</td>\n",
              "      <td>-1</td>\n",
              "      <td>-1</td>\n",
              "    </tr>\n",
              "    <tr>\n",
              "      <th>1</th>\n",
              "      <td>0.079820</td>\n",
              "      <td>-0.004551</td>\n",
              "      <td>-2.014231</td>\n",
              "      <td>0.968800</td>\n",
              "      <td>-0.115323</td>\n",
              "      <td>-0.835753</td>\n",
              "      <td>-0.045945</td>\n",
              "      <td>0.733913</td>\n",
              "      <td>1</td>\n",
              "      <td>1</td>\n",
              "      <td>...</td>\n",
              "      <td>1</td>\n",
              "      <td>1</td>\n",
              "      <td>1</td>\n",
              "      <td>1</td>\n",
              "      <td>1</td>\n",
              "      <td>-1</td>\n",
              "      <td>-1</td>\n",
              "      <td>-1</td>\n",
              "      <td>-1</td>\n",
              "      <td>-1</td>\n",
              "    </tr>\n",
              "    <tr>\n",
              "      <th>2</th>\n",
              "      <td>0.079575</td>\n",
              "      <td>-0.004561</td>\n",
              "      <td>-1.119223</td>\n",
              "      <td>-0.147804</td>\n",
              "      <td>-0.141231</td>\n",
              "      <td>-1.148259</td>\n",
              "      <td>-0.045813</td>\n",
              "      <td>0.709854</td>\n",
              "      <td>1</td>\n",
              "      <td>1</td>\n",
              "      <td>...</td>\n",
              "      <td>1</td>\n",
              "      <td>1</td>\n",
              "      <td>1</td>\n",
              "      <td>1</td>\n",
              "      <td>1</td>\n",
              "      <td>1</td>\n",
              "      <td>1</td>\n",
              "      <td>1</td>\n",
              "      <td>-1</td>\n",
              "      <td>-1</td>\n",
              "    </tr>\n",
              "    <tr>\n",
              "      <th>3</th>\n",
              "      <td>0.009237</td>\n",
              "      <td>-0.004553</td>\n",
              "      <td>-2.175405</td>\n",
              "      <td>6.707428</td>\n",
              "      <td>-0.234210</td>\n",
              "      <td>-1.803158</td>\n",
              "      <td>-0.084443</td>\n",
              "      <td>2.287966</td>\n",
              "      <td>1</td>\n",
              "      <td>1</td>\n",
              "      <td>...</td>\n",
              "      <td>-1</td>\n",
              "      <td>-1</td>\n",
              "      <td>-1</td>\n",
              "      <td>-1</td>\n",
              "      <td>-1</td>\n",
              "      <td>-1</td>\n",
              "      <td>-1</td>\n",
              "      <td>-1</td>\n",
              "      <td>-1</td>\n",
              "      <td>-1</td>\n",
              "    </tr>\n",
              "    <tr>\n",
              "      <th>4</th>\n",
              "      <td>0.071525</td>\n",
              "      <td>-0.004555</td>\n",
              "      <td>-1.656973</td>\n",
              "      <td>-0.167105</td>\n",
              "      <td>-0.133147</td>\n",
              "      <td>-0.966028</td>\n",
              "      <td>-0.052954</td>\n",
              "      <td>0.855692</td>\n",
              "      <td>1</td>\n",
              "      <td>1</td>\n",
              "      <td>...</td>\n",
              "      <td>1</td>\n",
              "      <td>1</td>\n",
              "      <td>1</td>\n",
              "      <td>1</td>\n",
              "      <td>1</td>\n",
              "      <td>1</td>\n",
              "      <td>-1</td>\n",
              "      <td>-1</td>\n",
              "      <td>-1</td>\n",
              "      <td>-1</td>\n",
              "    </tr>\n",
              "  </tbody>\n",
              "</table>\n",
              "<p>5 rows × 34 columns</p>\n",
              "</div>"
            ],
            "text/plain": [
              "      specz  specz_err   dered_r  petroRad_r  color_gi  color_gr  color_ri  \\\n",
              "0  0.099074  -0.004559 -1.290779    0.516573 -0.146160 -1.196452 -0.046732   \n",
              "1  0.079820  -0.004551 -2.014231    0.968800 -0.115323 -0.835753 -0.045945   \n",
              "2  0.079575  -0.004561 -1.119223   -0.147804 -0.141231 -1.148259 -0.045813   \n",
              "3  0.009237  -0.004553 -2.175405    6.707428 -0.234210 -1.803158 -0.084443   \n",
              "4  0.071525  -0.004555 -1.656973   -0.167105 -0.133147 -0.966028 -0.052954   \n",
              "\n",
              "   color_zr  In0  In1  ...  In16  In17  In18  In19  In20  In21  In22  In23  \\\n",
              "0  0.779641    1    1  ...     1     1     1     1     1     1     1    -1   \n",
              "1  0.733913    1    1  ...     1     1     1     1     1    -1    -1    -1   \n",
              "2  0.709854    1    1  ...     1     1     1     1     1     1     1     1   \n",
              "3  2.287966    1    1  ...    -1    -1    -1    -1    -1    -1    -1    -1   \n",
              "4  0.855692    1    1  ...     1     1     1     1     1     1    -1    -1   \n",
              "\n",
              "   In24  In25  \n",
              "0    -1    -1  \n",
              "1    -1    -1  \n",
              "2    -1    -1  \n",
              "3    -1    -1  \n",
              "4    -1    -1  \n",
              "\n",
              "[5 rows x 34 columns]"
            ]
          },
          "metadata": {
            "tags": []
          },
          "execution_count": 237
        }
      ]
    },
    {
      "cell_type": "code",
      "metadata": {
        "id": "QdwL9db3EaLd"
      },
      "source": [
        "#  SOM using SuSi library\n",
        "# training['specz'].max()"
      ],
      "execution_count": null,
      "outputs": []
    },
    {
      "cell_type": "code",
      "metadata": {
        "id": "5mzd61uGEaLg"
      },
      "source": [
        "import susi\n",
        "from sklearn.model_selection import train_test_split"
      ],
      "execution_count": null,
      "outputs": []
    },
    {
      "cell_type": "code",
      "metadata": {
        "id": "PuO2c5WcEaLl"
      },
      "source": [
        "som = susi.SOMRegressor()"
      ],
      "execution_count": null,
      "outputs": []
    },
    {
      "cell_type": "markdown",
      "metadata": {
        "id": "6S-DtxqZEaLn"
      },
      "source": [
        "* Choose data to train before ee\n",
        "* Choose data to train after ee\n",
        "* Train for multiple ee's(multiple ContPar)\n",
        "* Make function to calculate all reqd parameters for the multiple sets of specz we get"
      ]
    },
    {
      "cell_type": "code",
      "metadata": {
        "id": "FW7udwDLEaLo"
      },
      "source": [
        "# def ilocMedian(df, z):\n",
        "#     return df['z'].get_loc(df['z'].median())\n",
        "\n",
        "# Need to find Median Absolute Deviation, 68% spread, 95% spread about median and do del>0.15"
      ],
      "execution_count": null,
      "outputs": []
    },
    {
      "cell_type": "code",
      "metadata": {
        "id": "iGkieaTdEaLu"
      },
      "source": [
        "def MAD(data):\n",
        "    data = np.array(data)\n",
        "    data = abs(data - np.median(data))\n",
        "    return np.median(data)"
      ],
      "execution_count": null,
      "outputs": []
    },
    {
      "cell_type": "code",
      "metadata": {
        "id": "skForAZ_EaLy"
      },
      "source": [
        "def CountDelOut(z, specz):\n",
        "    data = []\n",
        "    z = np.array(z)\n",
        "    specz = np.array(specz)\n",
        "    for i in range(len(z)):\n",
        "        data.append((z[i]-specz[i])/(1+specz[i]))\n",
        "    data = np.array(data)\n",
        "    if len(data)>0:\n",
        "        return len(data[data>0.15])/len(data)"
      ],
      "execution_count": null,
      "outputs": []
    },
    {
      "cell_type": "code",
      "metadata": {
        "id": "OfnRsj4BEaL1"
      },
      "source": [
        "def onesd(data): # 68% spread\n",
        "    data = np.array(data)\n",
        "    std = np.std(data)\n",
        "    med = np.median(data)\n",
        "    return len(data[data>med-std])/len(data)\n",
        "def twosd(data): # 95% spread\n",
        "    data = np.array(data)\n",
        "    std = np.std(data)\n",
        "    med = np.median(data)\n",
        "    return len(data[data>med-2*std])/len(data)"
      ],
      "execution_count": null,
      "outputs": []
    },
    {
      "cell_type": "code",
      "metadata": {
        "id": "YIjzl0rrEaL5",
        "outputId": "c5e0ec99-ad08-48d9-ed2c-a27e04ef62ac"
      },
      "source": [
        "training.columns"
      ],
      "execution_count": null,
      "outputs": [
        {
          "output_type": "execute_result",
          "data": {
            "text/plain": [
              "Index(['specz', 'specz_err', 'dered_r', 'petroRad_r', 'color_gi', 'color_gr',\n",
              "       'color_ri', 'color_zr', 'In0', 'In1', 'In2', 'In3', 'In4', 'In5', 'In6',\n",
              "       'In7', 'In8', 'In9', 'In10', 'In11', 'In12', 'In13', 'In14', 'In15',\n",
              "       'In16', 'In17', 'In18', 'In19', 'In20', 'In21', 'In22', 'In23', 'In24',\n",
              "       'In25'],\n",
              "      dtype='object')"
            ]
          },
          "metadata": {
            "tags": []
          },
          "execution_count": 245
        }
      ]
    },
    {
      "cell_type": "code",
      "metadata": {
        "id": "-0mZi_KpEaL7"
      },
      "source": [
        "new_data = training.copy()"
      ],
      "execution_count": null,
      "outputs": []
    },
    {
      "cell_type": "code",
      "metadata": {
        "id": "RfF8Euj2EaL_"
      },
      "source": [
        "#take half of inliers and half of outliers for both test and train\n",
        "data_train = new_data[ : int(N_r*0.5)].append(new_data[int(N_r) : int(N_r)+int(N_ur*0.5)]).copy()\n",
        "data_test = new_data[int(N_r*0.5) : int(N_r)].append(new_data[int(N_r)+int(N_ur*0.5) : ]).copy()"
      ],
      "execution_count": null,
      "outputs": []
    },
    {
      "cell_type": "code",
      "metadata": {
        "id": "257Ie8M7EaMB"
      },
      "source": [
        "# X_train = data_train.drop(['specz', 'specz_err'], axis = 1)\n",
        "# for i in range(len(params)):\n",
        "#         X_train.drop(['In'+str(i)], axis = 1, inplace = True)\n",
        "\n",
        "# X_test = data_test.drop(['specz', 'specz_err'], axis = 1)\n",
        "# for i in range(len(params)):\n",
        "#         X_test.drop(['In'+str(i)], axis = 1, inplace = True)\n",
        "\n",
        "# y_train = data_train['specz']\n",
        "# y_test = data_test['specz']"
      ],
      "execution_count": null,
      "outputs": []
    },
    {
      "cell_type": "code",
      "metadata": {
        "id": "ora5ae8uEaMF",
        "outputId": "5eac4378-53ef-41a5-ed5f-eece8e105cf6"
      },
      "source": [
        "data_test.columns"
      ],
      "execution_count": null,
      "outputs": [
        {
          "output_type": "execute_result",
          "data": {
            "text/plain": [
              "Index(['specz', 'specz_err', 'dered_r', 'petroRad_r', 'color_gi', 'color_gr',\n",
              "       'color_ri', 'color_zr', 'In0', 'In1', 'In2', 'In3', 'In4', 'In5', 'In6',\n",
              "       'In7', 'In8', 'In9', 'In10', 'In11', 'In12', 'In13', 'In14', 'In15',\n",
              "       'In16', 'In17', 'In18', 'In19', 'In20', 'In21', 'In22', 'In23', 'In24',\n",
              "       'In25'],\n",
              "      dtype='object')"
            ]
          },
          "metadata": {
            "tags": []
          },
          "execution_count": 249
        }
      ]
    },
    {
      "cell_type": "code",
      "metadata": {
        "id": "gKvpqdYfEaMI"
      },
      "source": [
        "def Total_SOM_beforeEE(train, test, param): # Inliers + Outliers\n",
        "    mad = []\n",
        "    dl = []\n",
        "    sd1 = []\n",
        "    sd2 = []\n",
        "    X_train = train.drop(['specz', 'specz_err'], axis = 1).copy()\n",
        "    X_test = test.drop(['specz', 'specz_err'], axis = 1).copy()\n",
        "    y_train = train['specz'].copy()\n",
        "    y_test = test['specz'].copy()\n",
        "    for i in range(len(param)):\n",
        "        X_train.drop(['In'+str(i)], axis = 1, inplace = True)\n",
        "        X_test.drop(['In'+str(i)], axis = 1, inplace = True)\n",
        "    som.fit(X_train, y_train)\n",
        "    pred = som.predict(X_test)\n",
        "    mad.append(MAD(pred))\n",
        "    dl.append(CountDelOut(y_test, pred))\n",
        "    sd1.append(onesd(pred))\n",
        "    sd2.append(twosd(pred))\n",
        "    return mad, dl, sd1, sd2"
      ],
      "execution_count": null,
      "outputs": []
    },
    {
      "cell_type": "code",
      "metadata": {
        "id": "fYBeMcO9EaMM"
      },
      "source": [
        "def Total_SOM_afterEE(train, test, param):\n",
        "    mad = []\n",
        "    dl = []\n",
        "    sd1 = []\n",
        "    sd2 = []\n",
        "#     print(train.columns)\n",
        "    X_train = train.drop(['specz', 'specz_err'], axis = 1).copy()\n",
        "#     print(X_train.columns)\n",
        "    X_test = test.drop(['specz', 'specz_err'], axis = 1).copy()\n",
        "    # Add a generlized loop later\n",
        "    y_train = train[['specz', 'In0', 'In1', 'In2', 'In3', 'In4', 'In5', 'In6', 'In7', 'In8', 'In9', 'In10', 'In11', 'In12', 'In13', 'In14', 'In15', 'In16', 'In17', 'In18', 'In19', 'In20', 'In21', 'In22', 'In23', 'In24', 'In25']].copy()\n",
        "    # Add a generlized loop later\n",
        "    y_test = test[['specz', 'In0', 'In1', 'In2', 'In3', 'In4', 'In5', 'In6', 'In7', 'In8', 'In9', 'In10', 'In11', 'In12', 'In13', 'In14', 'In15', 'In16', 'In17', 'In18', 'In19', 'In20', 'In21',  'In22', 'In23', 'In24', 'In25']].copy()\n",
        "    for i in range(len(param)):\n",
        "        xtrain = X_train.copy()\n",
        "#         print(xtrain.columns)\n",
        "        xtest = X_test.copy()\n",
        "        ytrain = y_train.copy()\n",
        "        for j in range(len(param)):\n",
        "            if(j==i):\n",
        "                pass\n",
        "            else:\n",
        "                xtrain.drop(['In'+str(j)], axis = 1, inplace = True)\n",
        "                ytrain.drop(['In'+str(j)], axis = 1, inplace = True)\n",
        "                xtest.drop(['In'+str(j)], axis = 1, inplace = True)\n",
        "        if(len(xtrain[xtrain['In'+str(i)]==1])==0):\n",
        "            mad.append('NaN')\n",
        "            dl.append('NaN')\n",
        "            sd1.append('NaN')\n",
        "            sd2.append('NaN') \n",
        "        else:\n",
        "            som.fit(xtrain[xtrain['In'+str(i)]==1], ytrain[ytrain['In'+str(i)]==1]['specz'])\n",
        "#             print('1')\n",
        "            pred = som.predict(xtest)\n",
        "            mad.append(MAD(pred))\n",
        "            dl.append(CountDelOut(y_test[y_test['In'+str(i)]==1]['specz'], pred))\n",
        "            sd1.append(onesd(pred))\n",
        "            sd2.append(twosd(pred))\n",
        "    return mad, dl, sd1, sd2"
      ],
      "execution_count": null,
      "outputs": []
    },
    {
      "cell_type": "code",
      "metadata": {
        "id": "AxIJ0x0SEaMQ"
      },
      "source": [
        "Mad0, Dl0, SD10, SD20 = Total_SOM_beforeEE(data_train, data_test, params)"
      ],
      "execution_count": null,
      "outputs": []
    },
    {
      "cell_type": "code",
      "metadata": {
        "id": "03DK8Zw1EaMU"
      },
      "source": [
        "Mad, Dl, SD1, SD2 = Total_SOM_afterEE(data_train, data_test, params)"
      ],
      "execution_count": null,
      "outputs": []
    },
    {
      "cell_type": "code",
      "metadata": {
        "id": "TqJrdVhFEaMX"
      },
      "source": [
        "# Plot performance graphs and relative gain/loss of each feature\n",
        "# Note that even if you get similar performances, it is still a gain because of runtime improvement"
      ],
      "execution_count": null,
      "outputs": []
    },
    {
      "cell_type": "code",
      "metadata": {
        "id": "wVM7I3nmEaMb"
      },
      "source": [
        "from sklearn.tree import DecisionTreeRegressor\n",
        "from sklearn.ensemble import AdaBoostRegressor"
      ],
      "execution_count": null,
      "outputs": []
    },
    {
      "cell_type": "code",
      "metadata": {
        "id": "7dPIoHdgEaMg"
      },
      "source": [
        "adr = AdaBoostRegressor(DecisionTreeRegressor(), loss = 'linear')"
      ],
      "execution_count": null,
      "outputs": []
    },
    {
      "cell_type": "code",
      "metadata": {
        "id": "_0xwh7QFEaMo"
      },
      "source": [
        "def Total_ADR_beforeEE(train, test, param): # Inliers + Outliers\n",
        "    mad = []\n",
        "    dl = []\n",
        "    sd1 = []\n",
        "    sd2 = []\n",
        "    X_train = train.drop(['specz', 'specz_err'], axis = 1).copy()\n",
        "    X_test = test.drop(['specz', 'specz_err'], axis = 1).copy()\n",
        "    y_train = train['specz'].copy()\n",
        "    y_test = test['specz'].copy()\n",
        "    for i in range(len(param)):\n",
        "        X_train.drop(['In'+str(i)], axis = 1, inplace = True)\n",
        "        X_test.drop(['In'+str(i)], axis = 1, inplace = True)\n",
        "    adr.fit(X_train, y_train)\n",
        "    pred = som.predict(X_test)\n",
        "    mad.append(MAD(pred))\n",
        "    dl.append(CountDelOut(y_test, pred))\n",
        "    sd1.append(onesd(pred))\n",
        "    sd2.append(twosd(pred))\n",
        "    return mad, dl, sd1, sd2"
      ],
      "execution_count": null,
      "outputs": []
    },
    {
      "cell_type": "code",
      "metadata": {
        "id": "deSi2AOYEaMs"
      },
      "source": [
        "def Total_ADR_afterEE(train, test, param):\n",
        "    mad = []\n",
        "    dl = []\n",
        "    sd1 = []\n",
        "    sd2 = []\n",
        "#     print(train.columns)\n",
        "    X_train = train.drop(['specz', 'specz_err'], axis = 1).copy()\n",
        "#     print(X_train.columns)\n",
        "    X_test = test.drop(['specz', 'specz_err'], axis = 1).copy()\n",
        "    # Add a generlized loop later\n",
        "    y_train = train[['specz', 'In0', 'In1', 'In2', 'In3', 'In4', 'In5', 'In6', 'In7', 'In8', 'In9', 'In10', 'In11', 'In12', 'In13', 'In14', 'In15', 'In16', 'In17', 'In18', 'In19', 'In20', 'In21', 'In22', 'In23', 'In24', 'In25']].copy()\n",
        "    # Add a generlized loop later\n",
        "    y_test = test[['specz', 'In0', 'In1', 'In2', 'In3', 'In4', 'In5', 'In6', 'In7', 'In8', 'In9', 'In10', 'In11', 'In12', 'In13', 'In14', 'In15', 'In16', 'In17', 'In18', 'In19', 'In20', 'In21',  'In22', 'In23', 'In24', 'In25']].copy()\n",
        "    for i in range(len(param)):\n",
        "        xtrain = X_train.copy()\n",
        "#         print(xtrain.columns)\n",
        "        xtest = X_test.copy()\n",
        "        ytrain = y_train.copy()\n",
        "        for j in range(len(param)):\n",
        "            if(j==i):\n",
        "                pass\n",
        "            else:\n",
        "                xtrain.drop(['In'+str(j)], axis = 1, inplace = True)\n",
        "                ytrain.drop(['In'+str(j)], axis = 1, inplace = True)\n",
        "                xtest.drop(['In'+str(j)], axis = 1, inplace = True)\n",
        "        if(len(xtrain[xtrain['In'+str(i)]==1])==0):\n",
        "            mad.append('NaN')\n",
        "            dl.append('NaN')\n",
        "            sd1.append('NaN')\n",
        "            sd2.append('NaN') \n",
        "        else:\n",
        "            som.fit(xtrain[xtrain['In'+str(i)]==1], ytrain[ytrain['In'+str(i)]==1]['specz'])\n",
        "#             print('1')\n",
        "            pred = som.predict(xtest)\n",
        "            mad.append(MAD(pred))\n",
        "            dl.append(CountDelOut(y_test[y_test['In'+str(i)]==1]['specz'], pred))\n",
        "            sd1.append(onesd(pred))\n",
        "            sd2.append(twosd(pred))\n",
        "    return mad, dl, sd1, sd2"
      ],
      "execution_count": null,
      "outputs": []
    },
    {
      "cell_type": "code",
      "metadata": {
        "id": "XkmdpWWQEaMu"
      },
      "source": [
        "Mad0_adr, Dl0_adr, SD10_adr, SD20_adr = Total_ADR_beforeEE(data_train, data_test, params)"
      ],
      "execution_count": null,
      "outputs": []
    },
    {
      "cell_type": "code",
      "metadata": {
        "id": "IpluGQWvEaMy"
      },
      "source": [
        "Mad_adr, Dl_adr, SD1_adr, SD2_adr = Total_ADR_afterEE(data_train, data_test, params)"
      ],
      "execution_count": null,
      "outputs": []
    },
    {
      "cell_type": "code",
      "metadata": {
        "id": "qeeWb0fiEaM3"
      },
      "source": [
        "# Will plot results while writing the report so that I can see what and what not to plot."
      ],
      "execution_count": null,
      "outputs": []
    }
  ]
}