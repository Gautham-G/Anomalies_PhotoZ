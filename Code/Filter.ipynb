{
  "nbformat": 4,
  "nbformat_minor": 0,
  "metadata": {
    "kernelspec": {
      "display_name": "Python 3",
      "language": "python",
      "name": "python3"
    },
    "language_info": {
      "codemirror_mode": {
        "name": "ipython",
        "version": 3
      },
      "file_extension": ".py",
      "mimetype": "text/x-python",
      "name": "python",
      "nbconvert_exporter": "python",
      "pygments_lexer": "ipython3",
      "version": "3.7.6"
    },
    "colab": {
      "name": "Filter.ipynb",
      "provenance": []
    }
  },
  "cells": [
    {
      "cell_type": "markdown",
      "metadata": {
        "id": "OhvPjn0PtBtT"
      },
      "source": [
        "### <center>Applying basic preprocessing anomaly filters.</center>\n",
        "#####           <center>(Using mainly the zWarning parameter given by SDSS(DR15))</center>"
      ]
    },
    {
      "cell_type": "code",
      "metadata": {
        "id": "OIkcP4DttBtW"
      },
      "source": [
        "import pandas as pd\n",
        "import numpy as np\n",
        "import matplotlib.pyplot as plt\n",
        "import seaborn as sns\n",
        "sns.set_style('darkgrid')"
      ],
      "execution_count": null,
      "outputs": []
    },
    {
      "cell_type": "code",
      "metadata": {
        "id": "CJ9Cf1nOtBtl"
      },
      "source": [
        "data = pd.read_csv('DataDR15.csv')"
      ],
      "execution_count": null,
      "outputs": []
    },
    {
      "cell_type": "code",
      "metadata": {
        "id": "_YJ4pT4btBty",
        "outputId": "8c22251f-5a7d-4a91-cc9c-109f326d4cc0"
      },
      "source": [
        "data.shape"
      ],
      "execution_count": null,
      "outputs": [
        {
          "output_type": "execute_result",
          "data": {
            "text/plain": [
              "(2697380, 26)"
            ]
          },
          "metadata": {
            "tags": []
          },
          "execution_count": 78
        }
      ]
    },
    {
      "cell_type": "code",
      "metadata": {
        "id": "rV3F1GnvtBt9"
      },
      "source": [
        "data['CountR'] = 0"
      ],
      "execution_count": null,
      "outputs": []
    },
    {
      "cell_type": "code",
      "metadata": {
        "id": "-FdK06PqtBuF",
        "outputId": "72a30f79-3df1-4551-b0d7-106db892d119"
      },
      "source": [
        "dataE = data[data['zWarning']!=0]\n",
        "dataE['CountR'] = 1"
      ],
      "execution_count": null,
      "outputs": [
        {
          "output_type": "stream",
          "text": [
            "/home/gautham/anaconda3/lib/python3.7/site-packages/ipykernel_launcher.py:2: SettingWithCopyWarning: \n",
            "A value is trying to be set on a copy of a slice from a DataFrame.\n",
            "Try using .loc[row_indexer,col_indexer] = value instead\n",
            "\n",
            "See the caveats in the documentation: https://pandas.pydata.org/pandas-docs/stable/user_guide/indexing.html#returning-a-view-versus-a-copy\n",
            "  \n"
          ],
          "name": "stderr"
        }
      ]
    },
    {
      "cell_type": "code",
      "metadata": {
        "id": "QQMuvWD1tBuN",
        "outputId": "2405049f-09df-4e53-ce39-a0e0808d4871"
      },
      "source": [
        "dataE.shape"
      ],
      "execution_count": null,
      "outputs": [
        {
          "output_type": "execute_result",
          "data": {
            "text/plain": [
              "(117393, 27)"
            ]
          },
          "metadata": {
            "tags": []
          },
          "execution_count": 81
        }
      ]
    },
    {
      "cell_type": "code",
      "metadata": {
        "id": "b1HbQr5mtBuV"
      },
      "source": [
        "# data[data['CountR']>0]"
      ],
      "execution_count": null,
      "outputs": []
    },
    {
      "cell_type": "code",
      "metadata": {
        "id": "tXJkpu0_tBua",
        "outputId": "80fb93a8-d778-47c1-c47b-4ee91664fdd6"
      },
      "source": [
        "dataE.head()"
      ],
      "execution_count": null,
      "outputs": [
        {
          "output_type": "execute_result",
          "data": {
            "text/html": [
              "<div>\n",
              "<style scoped>\n",
              "    .dataframe tbody tr th:only-of-type {\n",
              "        vertical-align: middle;\n",
              "    }\n",
              "\n",
              "    .dataframe tbody tr th {\n",
              "        vertical-align: top;\n",
              "    }\n",
              "\n",
              "    .dataframe thead th {\n",
              "        text-align: right;\n",
              "    }\n",
              "</style>\n",
              "<table border=\"1\" class=\"dataframe\">\n",
              "  <thead>\n",
              "    <tr style=\"text-align: right;\">\n",
              "      <th></th>\n",
              "      <th>Unnamed: 0</th>\n",
              "      <th>specObjID</th>\n",
              "      <th>objid</th>\n",
              "      <th>ra</th>\n",
              "      <th>dec</th>\n",
              "      <th>specz</th>\n",
              "      <th>specz_err</th>\n",
              "      <th>dered_u</th>\n",
              "      <th>dered_g</th>\n",
              "      <th>dered_r</th>\n",
              "      <th>...</th>\n",
              "      <th>petroRad_r</th>\n",
              "      <th>petroRadErr_r</th>\n",
              "      <th>specType</th>\n",
              "      <th>photpType</th>\n",
              "      <th>zWarning</th>\n",
              "      <th>color_gi</th>\n",
              "      <th>color_gr</th>\n",
              "      <th>color_ri</th>\n",
              "      <th>color_zr</th>\n",
              "      <th>CountR</th>\n",
              "    </tr>\n",
              "  </thead>\n",
              "  <tbody>\n",
              "    <tr>\n",
              "      <th>211</th>\n",
              "      <td>211</td>\n",
              "      <td>6.692422e+18</td>\n",
              "      <td>1237651190815129706</td>\n",
              "      <td>119.319960</td>\n",
              "      <td>40.849919</td>\n",
              "      <td>0.532519</td>\n",
              "      <td>0.000318</td>\n",
              "      <td>25.04828</td>\n",
              "      <td>22.33701</td>\n",
              "      <td>21.17239</td>\n",
              "      <td>...</td>\n",
              "      <td>7.359574</td>\n",
              "      <td>-1000.000000</td>\n",
              "      <td>LRG</td>\n",
              "      <td>3</td>\n",
              "      <td>4</td>\n",
              "      <td>2.32515</td>\n",
              "      <td>1.16462</td>\n",
              "      <td>1.16053</td>\n",
              "      <td>-0.90681</td>\n",
              "      <td>1</td>\n",
              "    </tr>\n",
              "    <tr>\n",
              "      <th>242</th>\n",
              "      <td>242</td>\n",
              "      <td>6.692457e+18</td>\n",
              "      <td>1237651191351869984</td>\n",
              "      <td>118.696709</td>\n",
              "      <td>40.826213</td>\n",
              "      <td>0.488876</td>\n",
              "      <td>0.000258</td>\n",
              "      <td>25.24378</td>\n",
              "      <td>22.96475</td>\n",
              "      <td>20.90699</td>\n",
              "      <td>...</td>\n",
              "      <td>2.744931</td>\n",
              "      <td>0.748331</td>\n",
              "      <td>LRG</td>\n",
              "      <td>3</td>\n",
              "      <td>4</td>\n",
              "      <td>3.09997</td>\n",
              "      <td>2.05776</td>\n",
              "      <td>1.04221</td>\n",
              "      <td>-1.36940</td>\n",
              "      <td>1</td>\n",
              "    </tr>\n",
              "    <tr>\n",
              "      <th>294</th>\n",
              "      <td>294</td>\n",
              "      <td>7.663085e+18</td>\n",
              "      <td>1237651249895965175</td>\n",
              "      <td>220.382869</td>\n",
              "      <td>59.067943</td>\n",
              "      <td>0.000000</td>\n",
              "      <td>0.000000</td>\n",
              "      <td>23.03623</td>\n",
              "      <td>20.49071</td>\n",
              "      <td>18.70774</td>\n",
              "      <td>...</td>\n",
              "      <td>6.128214</td>\n",
              "      <td>0.743052</td>\n",
              "      <td>LRG</td>\n",
              "      <td>3</td>\n",
              "      <td>646</td>\n",
              "      <td>2.39208</td>\n",
              "      <td>1.78297</td>\n",
              "      <td>0.60911</td>\n",
              "      <td>-1.09619</td>\n",
              "      <td>1</td>\n",
              "    </tr>\n",
              "    <tr>\n",
              "      <th>317</th>\n",
              "      <td>317</td>\n",
              "      <td>3.245970e+18</td>\n",
              "      <td>1237651249898455214</td>\n",
              "      <td>228.990758</td>\n",
              "      <td>55.735296</td>\n",
              "      <td>0.000000</td>\n",
              "      <td>0.000000</td>\n",
              "      <td>19.66568</td>\n",
              "      <td>18.30757</td>\n",
              "      <td>17.53972</td>\n",
              "      <td>...</td>\n",
              "      <td>4.593143</td>\n",
              "      <td>0.223466</td>\n",
              "      <td>QA</td>\n",
              "      <td>3</td>\n",
              "      <td>134</td>\n",
              "      <td>1.19454</td>\n",
              "      <td>0.76785</td>\n",
              "      <td>0.42669</td>\n",
              "      <td>-0.70761</td>\n",
              "      <td>1</td>\n",
              "    </tr>\n",
              "    <tr>\n",
              "      <th>355</th>\n",
              "      <td>355</td>\n",
              "      <td>6.692412e+18</td>\n",
              "      <td>1237651250406228791</td>\n",
              "      <td>119.549790</td>\n",
              "      <td>40.947510</td>\n",
              "      <td>0.708250</td>\n",
              "      <td>0.000159</td>\n",
              "      <td>22.60991</td>\n",
              "      <td>21.98940</td>\n",
              "      <td>20.62056</td>\n",
              "      <td>...</td>\n",
              "      <td>3.311533</td>\n",
              "      <td>1.636708</td>\n",
              "      <td>LRG</td>\n",
              "      <td>3</td>\n",
              "      <td>4</td>\n",
              "      <td>2.60327</td>\n",
              "      <td>1.36884</td>\n",
              "      <td>1.23443</td>\n",
              "      <td>-1.89998</td>\n",
              "      <td>1</td>\n",
              "    </tr>\n",
              "  </tbody>\n",
              "</table>\n",
              "<p>5 rows × 27 columns</p>\n",
              "</div>"
            ],
            "text/plain": [
              "     Unnamed: 0     specObjID                objid          ra        dec  \\\n",
              "211         211  6.692422e+18  1237651190815129706  119.319960  40.849919   \n",
              "242         242  6.692457e+18  1237651191351869984  118.696709  40.826213   \n",
              "294         294  7.663085e+18  1237651249895965175  220.382869  59.067943   \n",
              "317         317  3.245970e+18  1237651249898455214  228.990758  55.735296   \n",
              "355         355  6.692412e+18  1237651250406228791  119.549790  40.947510   \n",
              "\n",
              "        specz  specz_err   dered_u   dered_g   dered_r  ...  petroRad_r  \\\n",
              "211  0.532519   0.000318  25.04828  22.33701  21.17239  ...    7.359574   \n",
              "242  0.488876   0.000258  25.24378  22.96475  20.90699  ...    2.744931   \n",
              "294  0.000000   0.000000  23.03623  20.49071  18.70774  ...    6.128214   \n",
              "317  0.000000   0.000000  19.66568  18.30757  17.53972  ...    4.593143   \n",
              "355  0.708250   0.000159  22.60991  21.98940  20.62056  ...    3.311533   \n",
              "\n",
              "     petroRadErr_r  specType  photpType  zWarning  color_gi  color_gr  \\\n",
              "211   -1000.000000       LRG          3         4   2.32515   1.16462   \n",
              "242       0.748331       LRG          3         4   3.09997   2.05776   \n",
              "294       0.743052       LRG          3       646   2.39208   1.78297   \n",
              "317       0.223466        QA          3       134   1.19454   0.76785   \n",
              "355       1.636708       LRG          3         4   2.60327   1.36884   \n",
              "\n",
              "     color_ri  color_zr CountR  \n",
              "211   1.16053  -0.90681      1  \n",
              "242   1.04221  -1.36940      1  \n",
              "294   0.60911  -1.09619      1  \n",
              "317   0.42669  -0.70761      1  \n",
              "355   1.23443  -1.89998      1  \n",
              "\n",
              "[5 rows x 27 columns]"
            ]
          },
          "metadata": {
            "tags": []
          },
          "execution_count": 83
        }
      ]
    },
    {
      "cell_type": "code",
      "metadata": {
        "id": "oFVv_TxdtBui",
        "outputId": "ce8afb52-64b7-452f-fa7d-9d6ab8b9669d"
      },
      "source": [
        "dataE.drop('Unnamed: 0', axis = 1, inplace = True)"
      ],
      "execution_count": null,
      "outputs": [
        {
          "output_type": "stream",
          "text": [
            "/home/gautham/anaconda3/lib/python3.7/site-packages/pandas/core/frame.py:3997: SettingWithCopyWarning: \n",
            "A value is trying to be set on a copy of a slice from a DataFrame\n",
            "\n",
            "See the caveats in the documentation: https://pandas.pydata.org/pandas-docs/stable/user_guide/indexing.html#returning-a-view-versus-a-copy\n",
            "  errors=errors,\n"
          ],
          "name": "stderr"
        }
      ]
    },
    {
      "cell_type": "code",
      "metadata": {
        "id": "z1TOerBStBup",
        "outputId": "3754573b-f790-4926-fe94-c14c86489f57"
      },
      "source": [
        "dataE.head()"
      ],
      "execution_count": null,
      "outputs": [
        {
          "output_type": "execute_result",
          "data": {
            "text/html": [
              "<div>\n",
              "<style scoped>\n",
              "    .dataframe tbody tr th:only-of-type {\n",
              "        vertical-align: middle;\n",
              "    }\n",
              "\n",
              "    .dataframe tbody tr th {\n",
              "        vertical-align: top;\n",
              "    }\n",
              "\n",
              "    .dataframe thead th {\n",
              "        text-align: right;\n",
              "    }\n",
              "</style>\n",
              "<table border=\"1\" class=\"dataframe\">\n",
              "  <thead>\n",
              "    <tr style=\"text-align: right;\">\n",
              "      <th></th>\n",
              "      <th>specObjID</th>\n",
              "      <th>objid</th>\n",
              "      <th>ra</th>\n",
              "      <th>dec</th>\n",
              "      <th>specz</th>\n",
              "      <th>specz_err</th>\n",
              "      <th>dered_u</th>\n",
              "      <th>dered_g</th>\n",
              "      <th>dered_r</th>\n",
              "      <th>dered_i</th>\n",
              "      <th>...</th>\n",
              "      <th>petroRad_r</th>\n",
              "      <th>petroRadErr_r</th>\n",
              "      <th>specType</th>\n",
              "      <th>photpType</th>\n",
              "      <th>zWarning</th>\n",
              "      <th>color_gi</th>\n",
              "      <th>color_gr</th>\n",
              "      <th>color_ri</th>\n",
              "      <th>color_zr</th>\n",
              "      <th>CountR</th>\n",
              "    </tr>\n",
              "  </thead>\n",
              "  <tbody>\n",
              "    <tr>\n",
              "      <th>211</th>\n",
              "      <td>6.692422e+18</td>\n",
              "      <td>1237651190815129706</td>\n",
              "      <td>119.319960</td>\n",
              "      <td>40.849919</td>\n",
              "      <td>0.532519</td>\n",
              "      <td>0.000318</td>\n",
              "      <td>25.04828</td>\n",
              "      <td>22.33701</td>\n",
              "      <td>21.17239</td>\n",
              "      <td>20.01186</td>\n",
              "      <td>...</td>\n",
              "      <td>7.359574</td>\n",
              "      <td>-1000.000000</td>\n",
              "      <td>LRG</td>\n",
              "      <td>3</td>\n",
              "      <td>4</td>\n",
              "      <td>2.32515</td>\n",
              "      <td>1.16462</td>\n",
              "      <td>1.16053</td>\n",
              "      <td>-0.90681</td>\n",
              "      <td>1</td>\n",
              "    </tr>\n",
              "    <tr>\n",
              "      <th>242</th>\n",
              "      <td>6.692457e+18</td>\n",
              "      <td>1237651191351869984</td>\n",
              "      <td>118.696709</td>\n",
              "      <td>40.826213</td>\n",
              "      <td>0.488876</td>\n",
              "      <td>0.000258</td>\n",
              "      <td>25.24378</td>\n",
              "      <td>22.96475</td>\n",
              "      <td>20.90699</td>\n",
              "      <td>19.86478</td>\n",
              "      <td>...</td>\n",
              "      <td>2.744931</td>\n",
              "      <td>0.748331</td>\n",
              "      <td>LRG</td>\n",
              "      <td>3</td>\n",
              "      <td>4</td>\n",
              "      <td>3.09997</td>\n",
              "      <td>2.05776</td>\n",
              "      <td>1.04221</td>\n",
              "      <td>-1.36940</td>\n",
              "      <td>1</td>\n",
              "    </tr>\n",
              "    <tr>\n",
              "      <th>294</th>\n",
              "      <td>7.663085e+18</td>\n",
              "      <td>1237651249895965175</td>\n",
              "      <td>220.382869</td>\n",
              "      <td>59.067943</td>\n",
              "      <td>0.000000</td>\n",
              "      <td>0.000000</td>\n",
              "      <td>23.03623</td>\n",
              "      <td>20.49071</td>\n",
              "      <td>18.70774</td>\n",
              "      <td>18.09863</td>\n",
              "      <td>...</td>\n",
              "      <td>6.128214</td>\n",
              "      <td>0.743052</td>\n",
              "      <td>LRG</td>\n",
              "      <td>3</td>\n",
              "      <td>646</td>\n",
              "      <td>2.39208</td>\n",
              "      <td>1.78297</td>\n",
              "      <td>0.60911</td>\n",
              "      <td>-1.09619</td>\n",
              "      <td>1</td>\n",
              "    </tr>\n",
              "    <tr>\n",
              "      <th>317</th>\n",
              "      <td>3.245970e+18</td>\n",
              "      <td>1237651249898455214</td>\n",
              "      <td>228.990758</td>\n",
              "      <td>55.735296</td>\n",
              "      <td>0.000000</td>\n",
              "      <td>0.000000</td>\n",
              "      <td>19.66568</td>\n",
              "      <td>18.30757</td>\n",
              "      <td>17.53972</td>\n",
              "      <td>17.11303</td>\n",
              "      <td>...</td>\n",
              "      <td>4.593143</td>\n",
              "      <td>0.223466</td>\n",
              "      <td>QA</td>\n",
              "      <td>3</td>\n",
              "      <td>134</td>\n",
              "      <td>1.19454</td>\n",
              "      <td>0.76785</td>\n",
              "      <td>0.42669</td>\n",
              "      <td>-0.70761</td>\n",
              "      <td>1</td>\n",
              "    </tr>\n",
              "    <tr>\n",
              "      <th>355</th>\n",
              "      <td>6.692412e+18</td>\n",
              "      <td>1237651250406228791</td>\n",
              "      <td>119.549790</td>\n",
              "      <td>40.947510</td>\n",
              "      <td>0.708250</td>\n",
              "      <td>0.000159</td>\n",
              "      <td>22.60991</td>\n",
              "      <td>21.98940</td>\n",
              "      <td>20.62056</td>\n",
              "      <td>19.38613</td>\n",
              "      <td>...</td>\n",
              "      <td>3.311533</td>\n",
              "      <td>1.636708</td>\n",
              "      <td>LRG</td>\n",
              "      <td>3</td>\n",
              "      <td>4</td>\n",
              "      <td>2.60327</td>\n",
              "      <td>1.36884</td>\n",
              "      <td>1.23443</td>\n",
              "      <td>-1.89998</td>\n",
              "      <td>1</td>\n",
              "    </tr>\n",
              "  </tbody>\n",
              "</table>\n",
              "<p>5 rows × 26 columns</p>\n",
              "</div>"
            ],
            "text/plain": [
              "        specObjID                objid          ra        dec     specz  \\\n",
              "211  6.692422e+18  1237651190815129706  119.319960  40.849919  0.532519   \n",
              "242  6.692457e+18  1237651191351869984  118.696709  40.826213  0.488876   \n",
              "294  7.663085e+18  1237651249895965175  220.382869  59.067943  0.000000   \n",
              "317  3.245970e+18  1237651249898455214  228.990758  55.735296  0.000000   \n",
              "355  6.692412e+18  1237651250406228791  119.549790  40.947510  0.708250   \n",
              "\n",
              "     specz_err   dered_u   dered_g   dered_r   dered_i  ...  petroRad_r  \\\n",
              "211   0.000318  25.04828  22.33701  21.17239  20.01186  ...    7.359574   \n",
              "242   0.000258  25.24378  22.96475  20.90699  19.86478  ...    2.744931   \n",
              "294   0.000000  23.03623  20.49071  18.70774  18.09863  ...    6.128214   \n",
              "317   0.000000  19.66568  18.30757  17.53972  17.11303  ...    4.593143   \n",
              "355   0.000159  22.60991  21.98940  20.62056  19.38613  ...    3.311533   \n",
              "\n",
              "     petroRadErr_r  specType  photpType  zWarning  color_gi  color_gr  \\\n",
              "211   -1000.000000       LRG          3         4   2.32515   1.16462   \n",
              "242       0.748331       LRG          3         4   3.09997   2.05776   \n",
              "294       0.743052       LRG          3       646   2.39208   1.78297   \n",
              "317       0.223466        QA          3       134   1.19454   0.76785   \n",
              "355       1.636708       LRG          3         4   2.60327   1.36884   \n",
              "\n",
              "     color_ri color_zr  CountR  \n",
              "211   1.16053 -0.90681       1  \n",
              "242   1.04221 -1.36940       1  \n",
              "294   0.60911 -1.09619       1  \n",
              "317   0.42669 -0.70761       1  \n",
              "355   1.23443 -1.89998       1  \n",
              "\n",
              "[5 rows x 26 columns]"
            ]
          },
          "metadata": {
            "tags": []
          },
          "execution_count": 85
        }
      ]
    },
    {
      "cell_type": "markdown",
      "metadata": {
        "id": "XW597yO1tBux"
      },
      "source": [
        "* Some galaxies may have multiple spectra, find those and check for galaxies with  poorly measured redshift>0 and well measured redshift with err<0.001"
      ]
    },
    {
      "cell_type": "markdown",
      "metadata": {
        "id": "YM0laJMmtBuy"
      },
      "source": [
        "*  \"Of these galaxies 9115 galaxies have both a poorly measured spectroscopic redshift above 0, and a well measured spectroscopic redshift with an error less than 0.001.\"<center>"
      ]
    },
    {
      "cell_type": "markdown",
      "metadata": {
        "id": "Q7tON5xutBu0"
      },
      "source": [
        "* \"We next select galaxies which have a difference in poorly measured and well measured redshifts to be greater than 0.01 resulting in 6734 galaxies of which 3502 are unique.\""
      ]
    },
    {
      "cell_type": "markdown",
      "metadata": {
        "id": "U6BqzPMKtBu1"
      },
      "source": [
        "<center>Quoted from <a href=\"https://arxiv.org/abs/1503.08214\">Hoyle et al</a></center>"
      ]
    },
    {
      "cell_type": "code",
      "metadata": {
        "id": "XJPJxxgGtBu3",
        "outputId": "ea0dfa11-fa5c-4377-bcc4-8ef8c6513acb"
      },
      "source": [
        "print(dataE.shape[0], 'and', dataE['objid'].nunique())"
      ],
      "execution_count": null,
      "outputs": [
        {
          "output_type": "stream",
          "text": [
            "117393 and 112221\n"
          ],
          "name": "stdout"
        }
      ]
    },
    {
      "cell_type": "code",
      "metadata": {
        "id": "_SrCc8FGtBu-",
        "outputId": "06f9135a-801d-4505-80f7-b424ef23f23d"
      },
      "source": [
        "dataE.sort_values(by=['objid'], inplace = True)"
      ],
      "execution_count": null,
      "outputs": [
        {
          "output_type": "stream",
          "text": [
            "/home/gautham/anaconda3/lib/python3.7/site-packages/ipykernel_launcher.py:1: SettingWithCopyWarning: \n",
            "A value is trying to be set on a copy of a slice from a DataFrame\n",
            "\n",
            "See the caveats in the documentation: https://pandas.pydata.org/pandas-docs/stable/user_guide/indexing.html#returning-a-view-versus-a-copy\n",
            "  \"\"\"Entry point for launching an IPython kernel.\n"
          ],
          "name": "stderr"
        }
      ]
    },
    {
      "cell_type": "code",
      "metadata": {
        "id": "idTcxE5ftBvH",
        "outputId": "c707ad4e-4859-4eb2-f6c3-b6cc81f123a8"
      },
      "source": [
        "dataE.head()"
      ],
      "execution_count": null,
      "outputs": [
        {
          "output_type": "execute_result",
          "data": {
            "text/html": [
              "<div>\n",
              "<style scoped>\n",
              "    .dataframe tbody tr th:only-of-type {\n",
              "        vertical-align: middle;\n",
              "    }\n",
              "\n",
              "    .dataframe tbody tr th {\n",
              "        vertical-align: top;\n",
              "    }\n",
              "\n",
              "    .dataframe thead th {\n",
              "        text-align: right;\n",
              "    }\n",
              "</style>\n",
              "<table border=\"1\" class=\"dataframe\">\n",
              "  <thead>\n",
              "    <tr style=\"text-align: right;\">\n",
              "      <th></th>\n",
              "      <th>specObjID</th>\n",
              "      <th>objid</th>\n",
              "      <th>ra</th>\n",
              "      <th>dec</th>\n",
              "      <th>specz</th>\n",
              "      <th>specz_err</th>\n",
              "      <th>dered_u</th>\n",
              "      <th>dered_g</th>\n",
              "      <th>dered_r</th>\n",
              "      <th>dered_i</th>\n",
              "      <th>...</th>\n",
              "      <th>petroRad_r</th>\n",
              "      <th>petroRadErr_r</th>\n",
              "      <th>specType</th>\n",
              "      <th>photpType</th>\n",
              "      <th>zWarning</th>\n",
              "      <th>color_gi</th>\n",
              "      <th>color_gr</th>\n",
              "      <th>color_ri</th>\n",
              "      <th>color_zr</th>\n",
              "      <th>CountR</th>\n",
              "    </tr>\n",
              "  </thead>\n",
              "  <tbody>\n",
              "    <tr>\n",
              "      <th>27315</th>\n",
              "      <td>9.064666e+17</td>\n",
              "      <td>1237645879578460507</td>\n",
              "      <td>51.475667</td>\n",
              "      <td>1.270406</td>\n",
              "      <td>1.168943</td>\n",
              "      <td>0.326111</td>\n",
              "      <td>20.69754</td>\n",
              "      <td>19.61841</td>\n",
              "      <td>19.20132</td>\n",
              "      <td>18.93900</td>\n",
              "      <td>...</td>\n",
              "      <td>5.268336</td>\n",
              "      <td>1.116978</td>\n",
              "      <td>NONLEGACY</td>\n",
              "      <td>3</td>\n",
              "      <td>4</td>\n",
              "      <td>0.67941</td>\n",
              "      <td>0.41709</td>\n",
              "      <td>0.26232</td>\n",
              "      <td>-0.26119</td>\n",
              "      <td>1</td>\n",
              "    </tr>\n",
              "    <tr>\n",
              "      <th>9616</th>\n",
              "      <td>8.806929e+18</td>\n",
              "      <td>1237645942898230422</td>\n",
              "      <td>40.587309</td>\n",
              "      <td>0.099694</td>\n",
              "      <td>0.688530</td>\n",
              "      <td>0.000493</td>\n",
              "      <td>22.75566</td>\n",
              "      <td>22.91782</td>\n",
              "      <td>21.67325</td>\n",
              "      <td>20.26372</td>\n",
              "      <td>...</td>\n",
              "      <td>2.969099</td>\n",
              "      <td>-1000.000000</td>\n",
              "      <td>LRG</td>\n",
              "      <td>3</td>\n",
              "      <td>4</td>\n",
              "      <td>2.65410</td>\n",
              "      <td>1.24457</td>\n",
              "      <td>1.40953</td>\n",
              "      <td>-2.31718</td>\n",
              "      <td>1</td>\n",
              "    </tr>\n",
              "    <tr>\n",
              "      <th>6340</th>\n",
              "      <td>2.971381e+18</td>\n",
              "      <td>1237645942904717681</td>\n",
              "      <td>55.276130</td>\n",
              "      <td>0.217559</td>\n",
              "      <td>0.508505</td>\n",
              "      <td>0.000224</td>\n",
              "      <td>22.96113</td>\n",
              "      <td>22.26789</td>\n",
              "      <td>20.74245</td>\n",
              "      <td>19.87316</td>\n",
              "      <td>...</td>\n",
              "      <td>1.989761</td>\n",
              "      <td>0.432218</td>\n",
              "      <td>NONLEGACY</td>\n",
              "      <td>3</td>\n",
              "      <td>4</td>\n",
              "      <td>2.39473</td>\n",
              "      <td>1.52544</td>\n",
              "      <td>0.86929</td>\n",
              "      <td>-1.21748</td>\n",
              "      <td>1</td>\n",
              "    </tr>\n",
              "    <tr>\n",
              "      <th>18486</th>\n",
              "      <td>8.810360e+18</td>\n",
              "      <td>1237645943434642261</td>\n",
              "      <td>39.450032</td>\n",
              "      <td>0.630192</td>\n",
              "      <td>1.278000</td>\n",
              "      <td>0.000053</td>\n",
              "      <td>22.81642</td>\n",
              "      <td>23.69940</td>\n",
              "      <td>21.55404</td>\n",
              "      <td>20.48479</td>\n",
              "      <td>...</td>\n",
              "      <td>18.015300</td>\n",
              "      <td>-1000.000000</td>\n",
              "      <td>LRG</td>\n",
              "      <td>3</td>\n",
              "      <td>4</td>\n",
              "      <td>3.21461</td>\n",
              "      <td>2.14536</td>\n",
              "      <td>1.06925</td>\n",
              "      <td>-1.76303</td>\n",
              "      <td>1</td>\n",
              "    </tr>\n",
              "    <tr>\n",
              "      <th>18487</th>\n",
              "      <td>8.810407e+18</td>\n",
              "      <td>1237645943434969995</td>\n",
              "      <td>40.285858</td>\n",
              "      <td>0.455475</td>\n",
              "      <td>0.812251</td>\n",
              "      <td>0.000457</td>\n",
              "      <td>24.73078</td>\n",
              "      <td>24.76032</td>\n",
              "      <td>21.73809</td>\n",
              "      <td>20.72943</td>\n",
              "      <td>...</td>\n",
              "      <td>7.357921</td>\n",
              "      <td>-1000.000000</td>\n",
              "      <td>LRG</td>\n",
              "      <td>3</td>\n",
              "      <td>4</td>\n",
              "      <td>4.03089</td>\n",
              "      <td>3.02223</td>\n",
              "      <td>1.00866</td>\n",
              "      <td>-1.84919</td>\n",
              "      <td>1</td>\n",
              "    </tr>\n",
              "  </tbody>\n",
              "</table>\n",
              "<p>5 rows × 26 columns</p>\n",
              "</div>"
            ],
            "text/plain": [
              "          specObjID                objid         ra       dec     specz  \\\n",
              "27315  9.064666e+17  1237645879578460507  51.475667  1.270406  1.168943   \n",
              "9616   8.806929e+18  1237645942898230422  40.587309  0.099694  0.688530   \n",
              "6340   2.971381e+18  1237645942904717681  55.276130  0.217559  0.508505   \n",
              "18486  8.810360e+18  1237645943434642261  39.450032  0.630192  1.278000   \n",
              "18487  8.810407e+18  1237645943434969995  40.285858  0.455475  0.812251   \n",
              "\n",
              "       specz_err   dered_u   dered_g   dered_r   dered_i  ...  petroRad_r  \\\n",
              "27315   0.326111  20.69754  19.61841  19.20132  18.93900  ...    5.268336   \n",
              "9616    0.000493  22.75566  22.91782  21.67325  20.26372  ...    2.969099   \n",
              "6340    0.000224  22.96113  22.26789  20.74245  19.87316  ...    1.989761   \n",
              "18486   0.000053  22.81642  23.69940  21.55404  20.48479  ...   18.015300   \n",
              "18487   0.000457  24.73078  24.76032  21.73809  20.72943  ...    7.357921   \n",
              "\n",
              "       petroRadErr_r   specType  photpType  zWarning  color_gi  color_gr  \\\n",
              "27315       1.116978  NONLEGACY          3         4   0.67941   0.41709   \n",
              "9616    -1000.000000        LRG          3         4   2.65410   1.24457   \n",
              "6340        0.432218  NONLEGACY          3         4   2.39473   1.52544   \n",
              "18486   -1000.000000        LRG          3         4   3.21461   2.14536   \n",
              "18487   -1000.000000        LRG          3         4   4.03089   3.02223   \n",
              "\n",
              "       color_ri color_zr  CountR  \n",
              "27315   0.26232 -0.26119       1  \n",
              "9616    1.40953 -2.31718       1  \n",
              "6340    0.86929 -1.21748       1  \n",
              "18486   1.06925 -1.76303       1  \n",
              "18487   1.00866 -1.84919       1  \n",
              "\n",
              "[5 rows x 26 columns]"
            ]
          },
          "metadata": {
            "tags": []
          },
          "execution_count": 88
        }
      ]
    },
    {
      "cell_type": "code",
      "metadata": {
        "id": "dwT7t4urtBvM"
      },
      "source": [
        "datadupli = dataE[dataE['objid'].duplicated(False)] # datadupli contains all galaxies that have multiple specz readings for the same galaxy"
      ],
      "execution_count": null,
      "outputs": []
    },
    {
      "cell_type": "code",
      "metadata": {
        "id": "rIEhWcmztBvS",
        "outputId": "174cd29c-c439-4715-84c9-474547c64021"
      },
      "source": [
        "datadupli.shape"
      ],
      "execution_count": null,
      "outputs": [
        {
          "output_type": "execute_result",
          "data": {
            "text/plain": [
              "(9393, 26)"
            ]
          },
          "metadata": {
            "tags": []
          },
          "execution_count": 90
        }
      ]
    },
    {
      "cell_type": "code",
      "metadata": {
        "id": "wktWtX6PtBvh",
        "outputId": "ddb68bc5-1b4d-4458-8e6b-87ee74d268d2"
      },
      "source": [
        "datadupli['objid'].nunique()"
      ],
      "execution_count": null,
      "outputs": [
        {
          "output_type": "execute_result",
          "data": {
            "text/plain": [
              "4221"
            ]
          },
          "metadata": {
            "tags": []
          },
          "execution_count": 91
        }
      ]
    },
    {
      "cell_type": "code",
      "metadata": {
        "id": "ITU3Hv7otBvm"
      },
      "source": [
        "obj1 = []\n",
        "for a, b in np.array(datadupli[['specz_err', 'objid']]):\n",
        "    if a<=0.001:\n",
        "        obj1.append(b)\n",
        "# Object IDs for all galaxies with atleast 1 specz_err<0.001 ie: well measured specz."
      ],
      "execution_count": null,
      "outputs": []
    },
    {
      "cell_type": "code",
      "metadata": {
        "id": "Eq2ameJFtBvr",
        "outputId": "8b1b5d67-c6cf-41f9-db71-b4c3f2a3b572"
      },
      "source": [
        "pd.DataFrame(obj1).nunique()\n",
        "# 3831 Galaxies with atleast 1 well measured specz."
      ],
      "execution_count": null,
      "outputs": [
        {
          "output_type": "execute_result",
          "data": {
            "text/plain": [
              "0    3831\n",
              "dtype: int64"
            ]
          },
          "metadata": {
            "tags": []
          },
          "execution_count": 93
        }
      ]
    },
    {
      "cell_type": "markdown",
      "metadata": {
        "id": "19fHm_pitBvv"
      },
      "source": [
        "* To do : Take components in objid and see if the same obj id gives diff in poorly and well measured specz is >0.01"
      ]
    },
    {
      "cell_type": "code",
      "metadata": {
        "id": "6paeBy2TtBvw",
        "outputId": "6e37d87a-65ce-4fb2-f169-34f1175fbcbf"
      },
      "source": [
        "datadupli[datadupli['specz_err']<0.001]['specz_err']"
      ],
      "execution_count": null,
      "outputs": [
        {
          "output_type": "execute_result",
          "data": {
            "text/plain": [
              "25341      0.000194\n",
              "6583       0.000010\n",
              "6582       0.000140\n",
              "6591       0.000322\n",
              "6597       0.000751\n",
              "             ...   \n",
              "2611369    0.000187\n",
              "2415440    0.000203\n",
              "2415439    0.000741\n",
              "2586322    0.000530\n",
              "2586323    0.000246\n",
              "Name: specz_err, Length: 7822, dtype: float64"
            ]
          },
          "metadata": {
            "tags": []
          },
          "execution_count": 95
        }
      ]
    },
    {
      "cell_type": "code",
      "metadata": {
        "id": "nsKiCbYgtBv1"
      },
      "source": [
        "s = []\n",
        "\n",
        "for a in obj1:\n",
        "    # Matches specz in well measured set with specz in set of all duplicates.\n",
        "    for b in np.array(datadupli[(datadupli['objid'] == a) & (datadupli['specz_err']<0.001)]['specz']):  \n",
        "        # Take a well measured specz and compare with other duplicates, if delta(specz)>0.01,\n",
        "        # then the other specz is unreliable, add it to list 's' and remove all other occurances \n",
        "        # of elements in obj1\n",
        "        for c in np.array(datadupli[datadupli['objid'] == a]['specz']):\n",
        "            if abs(b-c) >= 0.01:\n",
        "                s.append([a,c])\n",
        "# s has all unreliable [objid,specz]"
      ],
      "execution_count": null,
      "outputs": []
    },
    {
      "cell_type": "code",
      "metadata": {
        "id": "KzL_hE-CtBv7",
        "outputId": "c41d3c2f-9168-4510-8972-e1b1f2cf9892"
      },
      "source": [
        "# print(datadupli[datadupli['objid'] == s[3][0]]['specz'])\n",
        "# print(s[3][1])\n",
        "s = pd.DataFrame(s, columns=['objid', 'specz'])\n",
        "s"
      ],
      "execution_count": null,
      "outputs": [
        {
          "output_type": "execute_result",
          "data": {
            "text/html": [
              "<div>\n",
              "<style scoped>\n",
              "    .dataframe tbody tr th:only-of-type {\n",
              "        vertical-align: middle;\n",
              "    }\n",
              "\n",
              "    .dataframe tbody tr th {\n",
              "        vertical-align: top;\n",
              "    }\n",
              "\n",
              "    .dataframe thead th {\n",
              "        text-align: right;\n",
              "    }\n",
              "</style>\n",
              "<table border=\"1\" class=\"dataframe\">\n",
              "  <thead>\n",
              "    <tr style=\"text-align: right;\">\n",
              "      <th></th>\n",
              "      <th>objid</th>\n",
              "      <th>specz</th>\n",
              "    </tr>\n",
              "  </thead>\n",
              "  <tbody>\n",
              "    <tr>\n",
              "      <th>0</th>\n",
              "      <td>1.237646e+18</td>\n",
              "      <td>1.049043</td>\n",
              "    </tr>\n",
              "    <tr>\n",
              "      <th>1</th>\n",
              "      <td>1.237646e+18</td>\n",
              "      <td>0.683723</td>\n",
              "    </tr>\n",
              "    <tr>\n",
              "      <th>2</th>\n",
              "      <td>1.237646e+18</td>\n",
              "      <td>-0.010193</td>\n",
              "    </tr>\n",
              "    <tr>\n",
              "      <th>3</th>\n",
              "      <td>1.237646e+18</td>\n",
              "      <td>0.845631</td>\n",
              "    </tr>\n",
              "    <tr>\n",
              "      <th>4</th>\n",
              "      <td>1.237646e+18</td>\n",
              "      <td>3.657077</td>\n",
              "    </tr>\n",
              "    <tr>\n",
              "      <th>...</th>\n",
              "      <td>...</td>\n",
              "      <td>...</td>\n",
              "    </tr>\n",
              "    <tr>\n",
              "      <th>75909</th>\n",
              "      <td>1.237681e+18</td>\n",
              "      <td>0.426342</td>\n",
              "    </tr>\n",
              "    <tr>\n",
              "      <th>75910</th>\n",
              "      <td>1.237681e+18</td>\n",
              "      <td>0.001161</td>\n",
              "    </tr>\n",
              "    <tr>\n",
              "      <th>75911</th>\n",
              "      <td>1.237681e+18</td>\n",
              "      <td>0.588752</td>\n",
              "    </tr>\n",
              "    <tr>\n",
              "      <th>75912</th>\n",
              "      <td>1.237681e+18</td>\n",
              "      <td>0.001161</td>\n",
              "    </tr>\n",
              "    <tr>\n",
              "      <th>75913</th>\n",
              "      <td>1.237681e+18</td>\n",
              "      <td>0.588752</td>\n",
              "    </tr>\n",
              "  </tbody>\n",
              "</table>\n",
              "<p>75914 rows × 2 columns</p>\n",
              "</div>"
            ],
            "text/plain": [
              "              objid     specz\n",
              "0      1.237646e+18  1.049043\n",
              "1      1.237646e+18  0.683723\n",
              "2      1.237646e+18 -0.010193\n",
              "3      1.237646e+18  0.845631\n",
              "4      1.237646e+18  3.657077\n",
              "...             ...       ...\n",
              "75909  1.237681e+18  0.426342\n",
              "75910  1.237681e+18  0.001161\n",
              "75911  1.237681e+18  0.588752\n",
              "75912  1.237681e+18  0.001161\n",
              "75913  1.237681e+18  0.588752\n",
              "\n",
              "[75914 rows x 2 columns]"
            ]
          },
          "metadata": {
            "tags": []
          },
          "execution_count": 97
        }
      ]
    },
    {
      "cell_type": "markdown",
      "metadata": {
        "id": "QTcw2p7xtBwB"
      },
      "source": [
        "* s contains all galaxies which have difference in specz >0.01 with atleast one galaxy with  specz_err<0.001 with repetitions -> All unreliable galaxies -> CountR = 2"
      ]
    },
    {
      "cell_type": "code",
      "metadata": {
        "id": "R7HBpoU7tBwC",
        "outputId": "deabff50-fa39-4f9f-d73b-7c791560367c"
      },
      "source": [
        "for a,b in np.array(s):\n",
        "        dataE.loc[(dataE['objid'] == a)&(dataE['specz'] == b), 'CountR'] = 2"
      ],
      "execution_count": null,
      "outputs": [
        {
          "output_type": "stream",
          "text": [
            "/home/gautham/anaconda3/lib/python3.7/site-packages/pandas/core/indexing.py:965: SettingWithCopyWarning: \n",
            "A value is trying to be set on a copy of a slice from a DataFrame.\n",
            "Try using .loc[row_indexer,col_indexer] = value instead\n",
            "\n",
            "See the caveats in the documentation: https://pandas.pydata.org/pandas-docs/stable/user_guide/indexing.html#returning-a-view-versus-a-copy\n",
            "  self.obj[item] = s\n"
          ],
          "name": "stderr"
        }
      ]
    },
    {
      "cell_type": "code",
      "metadata": {
        "id": "h8mE6n7CtBwG"
      },
      "source": [
        "Full_Reliable = data[data['zWarning']==0]\n",
        "Reliable = dataE[dataE['CountR'] == 1]\n",
        "Unreliable = dataE[dataE['CountR'] == 2]"
      ],
      "execution_count": null,
      "outputs": []
    },
    {
      "cell_type": "code",
      "metadata": {
        "id": "hzYOGpoLtBwL"
      },
      "source": [
        "# Cleaning\n",
        "Unreliable = Unreliable.drop_duplicates(subset = ['objid'])\n",
        "Reliable = Reliable.drop_duplicates(subset = ['objid'])\n",
        "Full_Reliable = Full_Reliable.drop_duplicates(subset = ['objid'])"
      ],
      "execution_count": null,
      "outputs": []
    },
    {
      "cell_type": "markdown",
      "metadata": {
        "id": "e8hpByQQtBwP"
      },
      "source": [
        "* #### Making all 3 sets completely disjoint.\n",
        "* ####  [!Takes a large time to run]"
      ]
    },
    {
      "cell_type": "code",
      "metadata": {
        "id": "6BHAacs6tBwP"
      },
      "source": [
        "for a in np.array(Unreliable['objid']):\n",
        "    Reliable.drop(Reliable[Reliable['objid']==a].index, inplace = True)\n",
        "    Full_Reliable.drop(Full_Reliable[Full_Reliable['objid']==a].index, inplace = True)"
      ],
      "execution_count": null,
      "outputs": []
    },
    {
      "cell_type": "markdown",
      "metadata": {
        "id": "KqTMLC_8tBwV"
      },
      "source": [
        "*  Unnecessary step below, do not need to run."
      ]
    },
    {
      "cell_type": "code",
      "metadata": {
        "id": "UBIQypUatBwV"
      },
      "source": [
        "# for a in np.array(Reliable['objid']):\n",
        "#     Full_Reliable.drop(Full_Reliable[Full_Reliable['objid']==a].index, inplace = True)"
      ],
      "execution_count": null,
      "outputs": []
    },
    {
      "cell_type": "code",
      "metadata": {
        "id": "2OW4C4b1tBwZ",
        "outputId": "4d153eda-e8c0-4727-e96f-d864e9c96dc7"
      },
      "source": [
        "print(Full_Reliable.shape, Reliable.shape, Unreliable.shape)"
      ],
      "execution_count": null,
      "outputs": [
        {
          "output_type": "stream",
          "text": [
            "(2359026, 27) (109795, 26) (2426, 26)\n"
          ],
          "name": "stdout"
        }
      ]
    },
    {
      "cell_type": "markdown",
      "metadata": {
        "id": "MHrsBzVCtBwe"
      },
      "source": [
        "An interesting point to note here is that using the same querying conditions in DR-10, we see\n",
        "<br>\n",
        "* Less Galaxies/Objects(Almost the same though).\n",
        "<br>\n",
        "* More Unreliable readings for spectroscopic redshifts (6732 vs 2426 when compared to Hoyle et.al).\n",
        "\n",
        "This goes on to say how significantly the DR has improved from version 10 to 12 "
      ]
    },
    {
      "cell_type": "code",
      "metadata": {
        "id": "lceAkp8OtBwe",
        "outputId": "5300bfad-c569-427c-de24-e0efd9b54e1b"
      },
      "source": [
        "from matplotlib.pyplot import figure\n",
        "fig, axis = plt.subplots(2, 2)\n",
        "sns.kdeplot(Full_Reliable['specz'], label = 'Full Reliable', bw = 0.0001, ax = axis[0][0])\n",
        "sns.kdeplot(Unreliable['specz'], color = 'orange', label = 'Unreliable', bw = 0.0001, ax = axis[0][0])\n",
        "sns.kdeplot(Reliable['specz'], color = 'black', label = 'Reliable', bw = 0.0001, ax = axis[0][0])\n",
        "sns.kdeplot(data = data['specz'], label = 'Full Data', color = 'gray', bw = 0.0001, ax = axis[0][1])\n",
        "sns.kdeplot(data = Full_Reliable['specz'], label = 'Full_Reliable', color = 'orange', bw = 0.0001, ax = axis[1][0])\n",
        "sns.kdeplot(data = Unreliable['specz'], label = 'Unreliable', color = 'orange', bw = 0.0001, ax = axis[1][1])\n",
        "axis[0][0].set_xlabel('SpecZ')\n",
        "axis[0][0].set_ylabel('Density')\n",
        "axis[0][1].set_xlabel('SpecZ')\n",
        "axis[0][1].set_ylabel('Density')\n",
        "axis[1][0].set_xlabel('SpecZ')\n",
        "axis[1][0].set_ylabel('Density')\n",
        "axis[1][1].set_xlabel('SpecZ')\n",
        "axis[1][1].set_ylabel('Density')\n",
        "plt.tight_layout()\n",
        "fig.set_size_inches(8, 6)"
      ],
      "execution_count": null,
      "outputs": [
        {
          "output_type": "display_data",
          "data": {
            "image/png": "[encoded data removed]",
            "text/plain": [
              "<Figure size 576x432 with 4 Axes>"
            ]
          },
          "metadata": {
            "tags": []
          }
        }
      ]
    },
    {
      "cell_type": "markdown",
      "metadata": {
        "id": "h4sMs9oftBwh"
      },
      "source": [
        "* #### Clearly, the unreliable distribution is completely different from all others, and when compared to all other distributions and the full data, it displays quite obvious outlier/noisy behaviour."
      ]
    },
    {
      "cell_type": "code",
      "metadata": {
        "id": "RwIfGtfZtBwj"
      },
      "source": [
        "Full_Reliable.drop(['Unnamed: 0'], axis = 1, inplace = True)"
      ],
      "execution_count": null,
      "outputs": []
    },
    {
      "cell_type": "code",
      "metadata": {
        "id": "eVLwfYFmtBwn"
      },
      "source": [
        "Full_Reliable.to_csv('Full_Rel.csv')\n",
        "Reliable.to_csv('Rel.csv')\n",
        "Unreliable.to_csv('Unrel.csv')"
      ],
      "execution_count": null,
      "outputs": []
    }
  ]
}