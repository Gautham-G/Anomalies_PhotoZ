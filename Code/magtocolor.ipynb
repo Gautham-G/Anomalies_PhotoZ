{
  "nbformat": 4,
  "nbformat_minor": 0,
  "metadata": {
    "kernelspec": {
      "display_name": "Python 3",
      "language": "python",
      "name": "python3"
    },
    "language_info": {
      "codemirror_mode": {
        "name": "ipython",
        "version": 3
      },
      "file_extension": ".py",
      "mimetype": "text/x-python",
      "name": "python",
      "nbconvert_exporter": "python",
      "pygments_lexer": "ipython3",
      "version": "3.7.6"
    },
    "colab": {
      "name": "magtocolor.ipynb",
      "provenance": []
    }
  },
  "cells": [
    {
      "cell_type": "markdown",
      "metadata": {
        "id": "4LULqdfrtCje"
      },
      "source": [
        "###  <center> Preparing colors with band dered values</center>"
      ]
    },
    {
      "cell_type": "code",
      "metadata": {
        "id": "0pno0FBPtCjj"
      },
      "source": [
        "import numpy as np \n",
        "import pandas as pd\n",
        "import matplotlib.pyplot as plt\n",
        "import seaborn as sns"
      ],
      "execution_count": null,
      "outputs": []
    },
    {
      "cell_type": "code",
      "metadata": {
        "id": "AfTwu6dPtCjy"
      },
      "source": [
        "data = pd.read_csv('specPhotoDR15v2_GauthamG_0.csv')"
      ],
      "execution_count": null,
      "outputs": []
    },
    {
      "cell_type": "code",
      "metadata": {
        "id": "M_AUNsWStCkE",
        "outputId": "3e32ba3c-a96b-4ea6-8f66-5cf0f499bd7c"
      },
      "source": [
        "data.columns"
      ],
      "execution_count": null,
      "outputs": [
        {
          "output_type": "execute_result",
          "data": {
            "text/plain": [
              "Index(['specObjID', 'objid', 'ra', 'dec', 'specz', 'specz_err', 'dered_u',\n",
              "       'dered_g', 'dered_r', 'dered_i', 'dered_z', 'modelMagErr_u',\n",
              "       'modelMagErr_g', 'modelMagErr_r', 'modelMagErr_i', 'modelMagErr_z',\n",
              "       'petroRad_r', 'petroRadErr_r', 'specType', 'photpType', 'zWarning'],\n",
              "      dtype='object')"
            ]
          },
          "metadata": {
            "tags": []
          },
          "execution_count": 5
        }
      ]
    },
    {
      "cell_type": "code",
      "metadata": {
        "id": "HnRHUivOtCkR"
      },
      "source": [
        "data['color_gi'] = data['dered_g'] - data['dered_i']\n",
        "data['color_gr'] = data['dered_g'] - data['dered_r']\n",
        "data['color_ri'] = data['dered_r'] - data['dered_i']\n",
        "data['color_zr'] = data['dered_z'] - data['dered_r']"
      ],
      "execution_count": null,
      "outputs": []
    },
    {
      "cell_type": "code",
      "metadata": {
        "id": "HsAXmwvjtCkb",
        "outputId": "aa259c3a-f3d3-4eab-f671-fee250cb0059"
      },
      "source": [
        "data['specz'].min()"
      ],
      "execution_count": null,
      "outputs": [
        {
          "output_type": "execute_result",
          "data": {
            "text/plain": [
              "-0.01121778"
            ]
          },
          "metadata": {
            "tags": []
          },
          "execution_count": 13
        }
      ]
    },
    {
      "cell_type": "code",
      "metadata": {
        "id": "KQm_Q7u3tCkm"
      },
      "source": [
        "data.to_csv('DataDR15.csv')"
      ],
      "execution_count": null,
      "outputs": []
    },
    {
      "cell_type": "code",
      "metadata": {
        "id": "c8RFRoc7tCkw",
        "outputId": "649132bf-5112-43ae-b475-3fb894b561d5"
      },
      "source": [
        "data.shape"
      ],
      "execution_count": null,
      "outputs": [
        {
          "output_type": "execute_result",
          "data": {
            "text/plain": [
              "(2697380, 25)"
            ]
          },
          "metadata": {
            "tags": []
          },
          "execution_count": 7
        }
      ]
    }
  ]
}